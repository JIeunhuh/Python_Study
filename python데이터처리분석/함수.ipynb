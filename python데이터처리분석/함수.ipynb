{
 "cells": [
  {
   "attachments": {},
   "cell_type": "markdown",
   "metadata": {},
   "source": [
    "def 함수이름(인자1, 인자2,...):\n",
    "    #함수코드 블록\n",
    "    return 반환값"
   ]
  },
  {
   "cell_type": "code",
   "execution_count": 2,
   "metadata": {},
   "outputs": [
    {
     "name": "stdout",
     "output_type": "stream",
     "text": [
      "177\n"
     ]
    }
   ],
   "source": [
    "def addNum(a,b):\n",
    "    res = a+b\n",
    "    return res\n",
    "#함수 호출\n",
    "res = addNum(88,89)\n",
    "# print(res)"
   ]
  },
  {
   "cell_type": "code",
   "execution_count": 7,
   "metadata": {},
   "outputs": [
    {
     "name": "stdout",
     "output_type": "stream",
     "text": [
      "55\n"
     ]
    }
   ],
   "source": [
    "# 1~n까지의 합 계산\n",
    "def sumN(b):\n",
    "    res =0\n",
    "    for i in range(1,b+1):\n",
    "        res += i\n",
    "    return res\n",
    "\n",
    "print(sumN(10))\n"
   ]
  },
  {
   "cell_type": "code",
   "execution_count": 9,
   "metadata": {},
   "outputs": [
    {
     "name": "stdout",
     "output_type": "stream",
     "text": [
      "77.0\n",
      "22.0\n"
     ]
    }
   ],
   "source": [
    "import math\n",
    "# 반지름이 3.5인 원의 면적과 둘레(소수점 아래 첫자리)\n",
    "def cir_area(r):\n",
    "    면적 = 2*(r**2)*math.pi #원주율\n",
    "    return 면적\n",
    "def cir_cirm(r):\n",
    "    둘레 = 2*r*math.pi\n",
    "    return 둘레\n",
    "\n",
    "cir = cir_area(3.5)\n",
    "print(f'{cir:.1f}')\n",
    "cir1 = cir_cirm(3.5)\n",
    "print(f'{cir1:.1f}')\n"
   ]
  },
  {
   "cell_type": "code",
   "execution_count": 11,
   "metadata": {},
   "outputs": [
    {
     "name": "stdout",
     "output_type": "stream",
     "text": [
      "7\n"
     ]
    }
   ],
   "source": [
    "#기존 함수 정의 방법\n",
    "def add(a,b):\n",
    "    res = a+b\n",
    "    return res\n",
    "\n",
    "# lambda 함수 정의 방법\n",
    "lambda_add = lambda a,b: a+b\n",
    "\n",
    "#함수 호출\n",
    "res = lambda_add(3,4)\n",
    "print(res)\n"
   ]
  },
  {
   "attachments": {},
   "cell_type": "markdown",
   "metadata": {},
   "source": [
    "### 연습문제"
   ]
  },
  {
   "cell_type": "code",
   "execution_count": 2,
   "metadata": {},
   "outputs": [
    {
     "name": "stdout",
     "output_type": "stream",
     "text": [
      "******\n",
      "******\n",
      "******\n"
     ]
    }
   ],
   "source": [
    "# 1. 두 개의 매개변수 n, m을 전달받아 m x n개의 * 상자를 출력하는 프로그램을 함수로 작성\n",
    "\n",
    "def printBox(m,n):\n",
    "    for i in range(m):\n",
    "        for j in range(n):\n",
    "            print('*', end='')\n",
    "        print()\n",
    "printBox(3,6)"
   ]
  },
  {
   "cell_type": "code",
   "execution_count": 11,
   "metadata": {},
   "outputs": [
    {
     "name": "stdout",
     "output_type": "stream",
     "text": [
      "6\n"
     ]
    }
   ],
   "source": [
    "# 2. 하나의 숫자를 전달받아 숫자의 자리 합을 구하는 함수를 작성\n",
    "def addN(num):\n",
    "    sumN = 0  \n",
    "    for i in str(num): #string형으로 바꿔서 inx가 각 숫자의 자리를 찾도록함\n",
    "        sumN += int(i)\n",
    "    print(sumN)\n",
    "\n",
    "addN(123)"
   ]
  },
  {
   "cell_type": "code",
   "execution_count": null,
   "metadata": {},
   "outputs": [],
   "source": [
    "# 3. 두 개의 문자열이 서로 다른 처음 위치를 반환하는 함수를 작성. 두 개의 문자열이 같으면 -1을 반환\n",
    "\n",
    "def returnStr(s1, s2):\n",
    "    '?'"
   ]
  },
  {
   "cell_type": "code",
   "execution_count": null,
   "metadata": {},
   "outputs": [],
   "source": [
    "# 4. 문자열과 하나의 문자를 전달받아 문자열에서 문자의 위치를 모두 찾아 리스트로 반환하는 함수를 작성\n",
    "\n",
    "def findStr(s, c):\n",
    "    '?'    "
   ]
  },
  {
   "cell_type": "code",
   "execution_count": 13,
   "metadata": {},
   "outputs": [
    {
     "name": "stdout",
     "output_type": "stream",
     "text": [
      "7260\n"
     ]
    }
   ],
   "source": [
    "# 5. 재귀 함수 이용해서 정수 합 계산하기\n",
    "def addNum(n):\n",
    "    if n==1:\n",
    "        return 1\n",
    "    else:\n",
    "        return n + addNum(n-1)\n",
    "\n",
    "n = int(input('숫자를 입력하세요 : '))\n",
    "print(addNum(n))"
   ]
  }
 ],
 "metadata": {
  "kernelspec": {
   "display_name": "Python 3",
   "language": "python",
   "name": "python3"
  },
  "language_info": {
   "codemirror_mode": {
    "name": "ipython",
    "version": 3
   },
   "file_extension": ".py",
   "mimetype": "text/x-python",
   "name": "python",
   "nbconvert_exporter": "python",
   "pygments_lexer": "ipython3",
   "version": "3.10.11"
  },
  "orig_nbformat": 4
 },
 "nbformat": 4,
 "nbformat_minor": 2
}
