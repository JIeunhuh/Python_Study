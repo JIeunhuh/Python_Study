{
 "cells": [
  {
   "attachments": {},
   "cell_type": "markdown",
   "metadata": {},
   "source": [
    "# 문자열"
   ]
  },
  {
   "cell_type": "code",
   "execution_count": 2,
   "metadata": {},
   "outputs": [
    {
     "name": "stdout",
     "output_type": "stream",
     "text": [
      "!dlrow ,olleH\n",
      "Hello\n"
     ]
    }
   ],
   "source": [
    "s = \"Hello, world!\"\n",
    "reversed_s = s[::-1]\n",
    "print(reversed_s)  # \"!dlrow ,olleH\"\n",
    "substr = s[:5]\n",
    "print(substr)"
   ]
  },
  {
   "attachments": {},
   "cell_type": "markdown",
   "metadata": {},
   "source": [
    " python에서 문자열 수정 불가능(불변)"
   ]
  },
  {
   "attachments": {},
   "cell_type": "markdown",
   "metadata": {},
   "source": [
    "### 연습문제"
   ]
  },
  {
   "cell_type": "code",
   "execution_count": 6,
   "metadata": {},
   "outputs": [
    {
     "name": "stdout",
     "output_type": "stream",
     "text": [
      "5\n",
      "안\n"
     ]
    }
   ],
   "source": [
    "# 문자열의 문자수 출력\n",
    "str =input('문자를 입력하세요 : ')\n",
    "print(len(str))\n",
    "\n",
    "# 10번 반복한 문자열 출력\n",
    "\n",
    "# 문자열의 첫번째 문자출력\n",
    "print(str[0])"
   ]
  },
  {
   "attachments": {},
   "cell_type": "markdown",
   "metadata": {},
   "source": [
    "## 리스트 컴프리 헨션\n",
    " 파이썬에서 리스트를 간단하게 생성하는 방법 중 하나 \n",
    " -> [표현식 for 항목 in 반복가능객체 if 조건문]"
   ]
  },
  {
   "cell_type": "code",
   "execution_count": 2,
   "metadata": {},
   "outputs": [
    {
     "name": "stdout",
     "output_type": "stream",
     "text": [
      "[1, 3, 5, 7, 9]\n"
     ]
    }
   ],
   "source": [
    "even_num = [num for num in range(1,11) if num % 2 ==0]\n",
    "print(even_num) #홀수만 출력하기 "
   ]
  },
  {
   "cell_type": "code",
   "execution_count": 3,
   "metadata": {},
   "outputs": [
    {
     "name": "stdout",
     "output_type": "stream",
     "text": [
      "[3, 5, 7, 9]\n"
     ]
    }
   ],
   "source": [
    "#del 키워드를 이용해 요소 제거 : 리스트의 특정 인덱스에 있는 요소 제거\n",
    "\n",
    "del even_num[0]\n",
    "print(even_num)"
   ]
  },
  {
   "cell_type": "code",
   "execution_count": 1,
   "metadata": {},
   "outputs": [
    {
     "name": "stdout",
     "output_type": "stream",
     "text": [
      "[1, 3, 4, 5, 7]\n",
      "[1, 3, 4, 5, 7]\n"
     ]
    }
   ],
   "source": [
    "#sort()와 sorted()\n",
    "\n",
    "#sorted() : 정렬된 새로운 리스트를 반환, 원본 리스트 변경x\n",
    "nums = [3,5,1,7,4]\n",
    "sort = sorted(nums) #sorted() 함수 이용해서 리스트 정렬\n",
    "print(sort)\n",
    "\n",
    "#sort : 원본 리스트를 정렬해서 반환, 원본 리스트 변경 o\n",
    "nums.sort()\n",
    "print(nums)\n"
   ]
  },
  {
   "attachments": {},
   "cell_type": "markdown",
   "metadata": {},
   "source": [
    "### ⁕ iterable 객체 : 반복가능한 객체 \n",
    "####     -> 여러개의 요소를 가지고 있는 컬렉션 객체 중 하나\n",
    "반복문을 사용해 요소를 하나씩 처리 (ex. 리스트, 튜플, 딕셔너리, 문자열 등)"
   ]
  },
  {
   "cell_type": "code",
   "execution_count": 14,
   "metadata": {},
   "outputs": [
    {
     "ename": "TypeError",
     "evalue": "'list_iterator' object is not callable",
     "output_type": "error",
     "traceback": [
      "\u001b[1;31m---------------------------------------------------------------------------\u001b[0m",
      "\u001b[1;31mTypeError\u001b[0m                                 Traceback (most recent call last)",
      "Cell \u001b[1;32mIn[14], line 2\u001b[0m\n\u001b[0;32m      1\u001b[0m mylist \u001b[39m=\u001b[39m [\u001b[39m1\u001b[39m,\u001b[39m2\u001b[39m,\u001b[39m3\u001b[39m,\u001b[39m4\u001b[39m,\u001b[39m5\u001b[39m]\n\u001b[1;32m----> 2\u001b[0m myiter \u001b[39m=\u001b[39m \u001b[39miter\u001b[39;49m(mylist)\n\u001b[0;32m      3\u001b[0m \u001b[39mprint\u001b[39m(\u001b[39mnext\u001b[39m(myiter))\n",
      "\u001b[1;31mTypeError\u001b[0m: 'list_iterator' object is not callable"
     ]
    }
   ],
   "source": [
    "mylist = [1,2,3,4,5]\n",
    "myiter = iter(mylist)\n",
    "print(next(myiter))"
   ]
  },
  {
   "attachments": {},
   "cell_type": "markdown",
   "metadata": {},
   "source": [
    "### 연습 문제 풀어보깅"
   ]
  },
  {
   "cell_type": "code",
   "execution_count": 13,
   "metadata": {},
   "outputs": [
    {
     "name": "stdout",
     "output_type": "stream",
     "text": [
      "['park', 'lee', 'bae', 'park', 'choi', 'baek']\n"
     ]
    }
   ],
   "source": [
    "friend = ['lee','bae','choi']\n",
    "friend.insert(0,'park')\n",
    "friend.insert(-1,'park')\n",
    "friend.append('baek')\n",
    "print(friend)"
   ]
  },
  {
   "cell_type": "code",
   "execution_count": 19,
   "metadata": {},
   "outputs": [
    {
     "name": "stdout",
     "output_type": "stream",
     "text": [
      "[1, 17, 3, 4, 5, 6]\n",
      "arr sort =  [3, 4, 5, 6, 17]\n",
      "[3, 4, 5, 25, 17]\n"
     ]
    }
   ],
   "source": [
    "list = [1,2,3]\n",
    "list[1] = 17\n",
    "list.append(4)\n",
    "list.append(5)\n",
    "list.append(6)\n",
    "print(list)\n",
    "del list[0]\n",
    "list.sort()\n",
    "print('arr sort = ',list)\n",
    "list[3]=25\n",
    "print(list)\n"
   ]
  },
  {
   "cell_type": "code",
   "execution_count": 22,
   "metadata": {},
   "outputs": [
    {
     "name": "stdout",
     "output_type": "stream",
     "text": [
      "[0, 1, 2, 3, 4, 5, 6, 7, 8, 9, 10, 11, 12, 13, 14, 15, 16, 17, 18, 19, 20, 21, 22, 23, 24, 25, 26, 27, 28, 29, 30, 31, 32, 33, 34, 35, 36, 37, 38, 39, 40, 41, 42, 43, 44, 45, 46, 47, 48, 49]\n",
      "[1, 4, 9, 16, 25, 36, 49, 64, 81, 100, 121, 144, 169, 196, 225, 256, 289, 324, 361, 400, 441, 484, 529, 576, 625, 676, 729, 784, 841, 900, 961, 1024, 1089, 1156, 1225, 1296, 1369, 1444, 1521, 1600, 1681, 1764, 1849, 1936, 2025, 2116, 2209, 2304, 2401, 2500]\n"
     ]
    }
   ],
   "source": [
    "list1 =[num for num in range(0,50)]\n",
    "print(list1)\n",
    "\n",
    "list2 = [num**2 for num in range(1,51)]\n",
    "print(list2)"
   ]
  },
  {
   "attachments": {},
   "cell_type": "markdown",
   "metadata": {},
   "source": [
    "### Dictionary"
   ]
  },
  {
   "cell_type": "code",
   "execution_count": 24,
   "metadata": {},
   "outputs": [
    {
     "name": "stdout",
     "output_type": "stream",
     "text": [
      "{'a': 1, 'b': 2, 'c': 3}\n",
      "{'a': 1, 'b': 2, 'c': 3, 'd': 4}\n"
     ]
    }
   ],
   "source": [
    "#딕셔너리에 새로운 키와 값을 추가\n",
    "my_dict = {'a':1,'b':2}\n",
    "my_dict['c'] = 3 #대괄호 표기법을 이용해 추가\n",
    "print(my_dict)\n",
    "\n",
    "my_dict.update({'d':4}) #.update() 이용해 추가\n",
    "print(my_dict)"
   ]
  },
  {
   "cell_type": "code",
   "execution_count": 53,
   "metadata": {},
   "outputs": [
    {
     "name": "stdout",
     "output_type": "stream",
     "text": [
      "다시 입력하셈\n",
      "['April', 'August', 'December', 'February', 'January', 'July', 'June', 'March', 'May', 'November', 'October', 'September']\n",
      "['January', 'March', 'May', 'July', 'August', 'October', 'December']\n",
      "[(28, 'February'), (30, 'April'), (30, 'June'), (30, 'November'), (30, 'September'), (31, 'August'), (31, 'December'), (31, 'January'), (31, 'July'), (31, 'March'), (31, 'May'), (31, 'October')]\n"
     ]
    }
   ],
   "source": [
    "month = input('month : ')\n",
    "days = {'January':31, 'February':28, 'March':31, 'April':30, 'May':31, 'June':30, 'July':31, 'August':31,'September':30, 'October':31, 'November':30, 'December':31}\n",
    "#사용자가 입력한 해당 월의 일수 출력\n",
    "if month in days.keys():\n",
    "    print(f'해당 월의 일수는 {days[month]}일 입니다.')\n",
    "else:\n",
    "    print('다시 입력하셈')\n",
    "\n",
    "# 알파벳 순서로 모든 월 출력\n",
    "days_sort = sorted(days.keys())\n",
    "print(days_sort)\n",
    "\n",
    "# 일수가 31일인 월을 모두 출력\n",
    "days_31 = [month for month, day in days.items() if day == 31]\n",
    "print(days_31)\n",
    "\n",
    "#월의 일수를 기준으로 오름차순으로 쌍을 출력\n",
    "days_item = days.items()\n",
    "sortday = [(day,month) for (month, day) in days_item]\n",
    "sortday.sort()\n",
    "print(sortday)\n",
    "\n",
    "# 사용자가 월을 세자리만 입력하면 해당 일수 출력하기\n",
    "mon = input('month : ')\n",
    "if mon in days.keys():\n",
    "    print(f'해당 월의 일수는 {days[mon]}일 임')"
   ]
  },
  {
   "cell_type": "code",
   "execution_count": 57,
   "metadata": {},
   "outputs": [
    {
     "name": "stdout",
     "output_type": "stream",
     "text": [
      "['Helga', 'LJ']\n"
     ]
    }
   ],
   "source": [
    "d=[{'name':'Todd', 'phone':'555-1414', 'email':'todd@mail.net'}, {'name':'Helga', 'phone':'555-1618', 'email':'helga@mail.net'},{'name':'Princess', 'phone':'555-3141', 'email':''},{'name':'LJ', 'phone':'555-2718', 'email':'lj@mail.net'}]\n",
    "\n",
    "uNames = [item['name'] for item in d if item['phone'][-1] == '8']\n",
    "print(uNames)\n",
    "\n"
   ]
  }
 ],
 "metadata": {
  "kernelspec": {
   "display_name": "Python 3",
   "language": "python",
   "name": "python3"
  },
  "language_info": {
   "codemirror_mode": {
    "name": "ipython",
    "version": 3
   },
   "file_extension": ".py",
   "mimetype": "text/x-python",
   "name": "python",
   "nbconvert_exporter": "python",
   "pygments_lexer": "ipython3",
   "version": "3.10.11"
  },
  "orig_nbformat": 4
 },
 "nbformat": 4,
 "nbformat_minor": 2
}
