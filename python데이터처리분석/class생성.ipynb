{
 "cells": [
  {
   "attachments": {},
   "cell_type": "markdown",
   "metadata": {},
   "source": [
    "# Class \n",
    " - oop(객체 지향 프로그래밍에서 중요한 개념 중 하나. 연관된 데이터와 함수를 묶어서 캡슐화 후 이를 기반으로 객체(instance) 생성)"
   ]
  },
  {
   "cell_type": "code",
   "execution_count": 4,
   "metadata": {},
   "outputs": [
    {
     "name": "stdout",
     "output_type": "stream",
     "text": [
      "50\n"
     ]
    }
   ],
   "source": [
    "class Rectangle:\n",
    "    def __init__(self) -> None:\n",
    "        pass #기본 생성자?\n",
    "    def __init__(self,width,height): #생성자 만들때 ; __init__\n",
    "        self.width = width\n",
    "        self.height = height\n",
    "    def area(self):\n",
    "        return self.width * self.height\n",
    "rec = Rectangle(5,10)\n",
    "print(rec.area())"
   ]
  },
  {
   "cell_type": "code",
   "execution_count": 6,
   "metadata": {},
   "outputs": [
    {
     "name": "stdout",
     "output_type": "stream",
     "text": [
      "0\n",
      "1\n"
     ]
    }
   ],
   "source": [
    "class Rectangle:\n",
    "    count=0\n",
    "    def __init__(self,width,height) :\n",
    "        self.width = width\n",
    "        self.height = height\n",
    "        Rectangle.count += 1\n",
    "    @classmethod\n",
    "    def print_count(cls):\n",
    "        print(cls.count)\n",
    "        \n",
    "        \n",
    "Rectangle.print_count()\n",
    "\n",
    "rec = Rectangle(4,7)\n",
    "Rectangle.print_count()"
   ]
  },
  {
   "cell_type": "code",
   "execution_count": 9,
   "metadata": {},
   "outputs": [
    {
     "ename": "AttributeError",
     "evalue": "'Person' object has no attribute '__age'",
     "output_type": "error",
     "traceback": [
      "\u001b[1;31m---------------------------------------------------------------------------\u001b[0m",
      "\u001b[1;31mAttributeError\u001b[0m                            Traceback (most recent call last)",
      "Cell \u001b[1;32mIn[9], line 7\u001b[0m\n\u001b[0;32m      4\u001b[0m         \u001b[39mself\u001b[39m\u001b[39m.\u001b[39m__age\u001b[39m=\u001b[39mage \u001b[39m#instance 변수이름 앞에 밑줄 두개 붙여서 비공개로 변수 만듦\u001b[39;00m\n\u001b[0;32m      6\u001b[0m p \u001b[39m=\u001b[39m Person(\u001b[39m'\u001b[39m\u001b[39mAlice\u001b[39m\u001b[39m'\u001b[39m,\u001b[39m25\u001b[39m)\n\u001b[1;32m----> 7\u001b[0m \u001b[39mprint\u001b[39m(p\u001b[39m.\u001b[39;49m__age)\n",
      "\u001b[1;31mAttributeError\u001b[0m: 'Person' object has no attribute '__age'"
     ]
    }
   ],
   "source": [
    "class Person:\n",
    "    def __init__(self,name,age):\n",
    "        self.name= name\n",
    "        self.__age=age #instance 변수이름 앞에 밑줄 두개 붙여서 비공개로 변수 만듦\n",
    "        \n",
    "p = Person('Alice',25)\n",
    "print(p.__age) #에러남"
   ]
  },
  {
   "cell_type": "code",
   "execution_count": 13,
   "metadata": {},
   "outputs": [
    {
     "name": "stdout",
     "output_type": "stream",
     "text": [
      "John\n",
      "hihi 내이름 홍길동\n",
      "나이는  30 임\n",
      "제 과목은  수학 입니다.\n"
     ]
    }
   ],
   "source": [
    "class Person:\n",
    "    def __init__(self,name,age):\n",
    "        self.__name= name\n",
    "        self.__age=age\n",
    "   \n",
    "   # getter / setter  \n",
    "    def get_name(self):\n",
    "        return self.__name\n",
    "    def set_name(self,name):\n",
    "        self.__name=name\n",
    "    \n",
    "    def get_age(self):\n",
    "        return self.__age\n",
    "    def set_age(self,age):\n",
    "        self.__name=age\n",
    "   \n",
    "    def selfIntroduce(self):\n",
    "        print('hihi 내이름',self.get_name())\n",
    "        print('나이는 ',self.get_age(),'임')    \n",
    "        \n",
    "p = Person('John',25)\n",
    "print(p.get_name())\n",
    "\n",
    "class Teacher(Person):\n",
    "    def __init__(self, name, age , subject):\n",
    "        super().__init__(name, age)\n",
    "        self.__subject = subject\n",
    "        \n",
    "    def get_subject(self):\n",
    "        return self.__subject\n",
    "    \n",
    "    def set_subject(self,subject):\n",
    "        self.__subject=subject\n",
    "    \n",
    "    def show_info(self):\n",
    "        super().selfIntroduce()\n",
    "        print('제 과목은 ',self.get_subject(),'입니다.')\n",
    "        \n",
    "t = Teacher('홍길동',30,'수학')\n",
    "t.show_info()    "
   ]
  },
  {
   "cell_type": "code",
   "execution_count": 15,
   "metadata": {},
   "outputs": [
    {
     "name": "stdout",
     "output_type": "stream",
     "text": [
      "My School is  high school\n"
     ]
    }
   ],
   "source": [
    "# 연습문제\n",
    "class People :\n",
    "    def __init__(self, age=0, name=None):\n",
    "        self.__age = age\n",
    "        self.__name = name\n",
    "\n",
    "    def introMe(self):\n",
    "        print(\"Name :\", self.__name, \"age :\", str(self.__age))\n",
    "\n",
    "class Teacher(People) :\n",
    "    def __init__(self, age=0, name=None, school=None) :\n",
    "        super().__init__(age, name)\n",
    "        self.school = school\n",
    "\n",
    "    def showSchool(self):\n",
    "        print(\"My School is \", self.school)\n",
    "\n",
    "t = Teacher(25,'lee','high school')\n",
    "t.showSchool()"
   ]
  },
  {
   "cell_type": "code",
   "execution_count": 20,
   "metadata": {},
   "outputs": [
    {
     "name": "stdout",
     "output_type": "stream",
     "text": [
      "이름은 동양\n",
      "나이는 65\n",
      "id는 2019 입니다.\n"
     ]
    }
   ],
   "source": [
    "# 연습문제\n",
    "# 다음 Person 클래스를 상속 받는 Employee 클래스를 정의하라. Employee 클래스에 employeeID 인스턴스 변수를 추가하고 getID() 메소드를 정의하라. getID() 메소드는 employeeID를 반환하는 메소드이다. Employee 클래스를 이용하여 Employee(\"동양\", 65, 2019)로 생성된 객체의 이름, 나이, ID를 출력하라.\n",
    "\n",
    "class Person:\n",
    "    def __init__(self, name, age): \n",
    "        self.name = name \n",
    "        self.age = age \n",
    "\n",
    "    def getName(self): \n",
    "        print(self.name) \n",
    "\n",
    "    def getAge(self): \n",
    "        print(self.age) \n",
    "\n",
    "class Employee(Person):\n",
    "    def __init__(self, name, age, employeeID):\n",
    "        super().__init__(name, age)\n",
    "        self.__employeeID = employeeID\n",
    "        \n",
    "    def get_employeeID(self):\n",
    "        return self.__employeeID\n",
    "    \n",
    "    def set_employeeID(self,employeeID):\n",
    "        self.__employeeID=employeeID\n",
    "    \n",
    "    def show_info(self):\n",
    "        print('이름은',self.name)\n",
    "        print('나이는',self.age)\n",
    "        print('id는',self.get_employeeID(),'입니다.')\n",
    "        \n",
    "e = Employee('동양',65,2019)\n",
    "e.show_info()\n"
   ]
  },
  {
   "cell_type": "code",
   "execution_count": 21,
   "metadata": {},
   "outputs": [
    {
     "name": "stdout",
     "output_type": "stream",
     "text": [
      "멍멍!\n",
      "야옹!\n"
     ]
    }
   ],
   "source": [
    "# method overriding\n",
    "\n",
    "class Animal:\n",
    "    def speak(self):\n",
    "        print(\"동물이 소리를 냅니다.\")\n",
    "\n",
    "class Dog(Animal):\n",
    "    def speak(self):\n",
    "        print(\"멍멍!\")\n",
    "\n",
    "class Cat(Animal):\n",
    "    def speak(self):\n",
    "        print(\"야옹!\")\n",
    "\n",
    "# 메서드 오버라이딩을 이용한 다형성 구현\n",
    "animals = [Dog(), Cat()]\n",
    "\n",
    "for animal in animals:\n",
    "    animal.speak() # 각 객체에 따라 다른 동작을 수행"
   ]
  },
  {
   "cell_type": "code",
   "execution_count": 22,
   "metadata": {},
   "outputs": [
    {
     "name": "stdout",
     "output_type": "stream",
     "text": [
      "멍멍!\n",
      "야옹!\n"
     ]
    }
   ],
   "source": [
    "# 다형성\n",
    "class 동물:\n",
    "    def 소리내기(self):\n",
    "        print(\"동물이 소리를 냅니다.\")\n",
    "\n",
    "class 개(동물):\n",
    "    def 소리내기(self):\n",
    "        print(\"멍멍!\")\n",
    "\n",
    "class 고양이(동물):\n",
    "    def 소리내기(self):\n",
    "        print(\"야옹!\")\n",
    "\n",
    "def 동물소리내기(동물_인스턴스):\n",
    "    동물_인스턴스.소리내기()\n",
    "\n",
    "개_인스턴스 = 개()\n",
    "고양이_인스턴스 = 고양이()\n",
    "\n",
    "동물소리내기(개_인스턴스)   # 결과: 멍멍!\n",
    "동물소리내기(고양이_인스턴스) # 결과: 야옹!\n"
   ]
  },
  {
   "cell_type": "code",
   "execution_count": 46,
   "metadata": {},
   "outputs": [
    {
     "name": "stdout",
     "output_type": "stream",
     "text": [
      "이름은 d1, 학번은 18150092, 전공은 science, 평균성적은 80입니다.\n",
      "이름은 lee, 학번은 2204, 전공은 economic, 평균성적은 98입니다.\n",
      "============================================================\n"
     ]
    }
   ],
   "source": [
    "# 연습문제 \n",
    "# 문제: 학생 정보를 관리하는 프로그램을 만드세요.\n",
    "\n",
    "class Student:\n",
    "    \n",
    "    def __init__(self,name,s_id,year,major,avg_score):\n",
    "        self.name = name\n",
    "        self.s_id = s_id\n",
    "        self.year=year\n",
    "        self.major = major\n",
    "        self.avg_score=avg_score\n",
    "    \n",
    "    def get_info(self):\n",
    "        print(f'이름은 {self.name}, 학번은 {self.s_id}, 전공은 {self.major}, 평균성적은 {self.avg_score}입니다.')\n",
    "\n",
    "\n",
    "class StudentManager():\n",
    "    def __init__(self):\n",
    "        self.student_list=[]\n",
    "\n",
    "    def add_student(self,student):\n",
    "        self.student_list.append(student)\n",
    "        \n",
    "    def remove_student(self,s_id): #s_id 이용해 학생을 리스트에서 제거\n",
    "        for i in self.student_list:\n",
    "            if(i.s_id==s_id):\n",
    "                self.student_list.remove(i)\n",
    "            \n",
    "    def find_stu(self,s_id): # 학번을 이용해 학생을 찾음\n",
    "       for i in self.student_list:\n",
    "           if i.s_id ==s_id:\n",
    "               print(f'찾은 학생은 {i.name}입니다.')\n",
    "        \n",
    "    def show_all_students(self):\n",
    "        for i in self.student_list:\n",
    "            i.get_info()\n",
    "            \n",
    "sm = StudentManager()\n",
    "st1 = Student('d1',18150092,4,'science',80)\n",
    "st2 = Student('lee',2204,2,'economic',98)\n",
    "\n",
    "sm.add_student(st1)\n",
    "sm.add_student(st2)\n",
    "\n",
    "sm.show_all_students()\n",
    "#sm.remove_student(2204)\n",
    "print('='*60)\n",
    "# sm.show_all_students()\n"
   ]
  },
  {
   "cell_type": "code",
   "execution_count": null,
   "metadata": {},
   "outputs": [],
   "source": []
  }
 ],
 "metadata": {
  "kernelspec": {
   "display_name": "Python 3",
   "language": "python",
   "name": "python3"
  },
  "language_info": {
   "codemirror_mode": {
    "name": "ipython",
    "version": 3
   },
   "file_extension": ".py",
   "mimetype": "text/x-python",
   "name": "python",
   "nbconvert_exporter": "python",
   "pygments_lexer": "ipython3",
   "version": "3.10.11"
  },
  "orig_nbformat": 4
 },
 "nbformat": 4,
 "nbformat_minor": 2
}
