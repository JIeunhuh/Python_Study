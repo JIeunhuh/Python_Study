{
 "cells": [
  {
   "cell_type": "code",
   "execution_count": 72,
   "metadata": {},
   "outputs": [
    {
     "ename": "NoSuchElementException",
     "evalue": "Message: no such element: Unable to locate element: {\"method\":\"css selector\",\"selector\":\".ContentList__content_list--q5KXY>li.item.Poster__link--sopnC\"}\n  (Session info: chrome=114.0.5735.134)\n",
     "output_type": "error",
     "traceback": [
      "\u001b[1;31m---------------------------------------------------------------------------\u001b[0m",
      "\u001b[1;31mNoSuchElementException\u001b[0m                    Traceback (most recent call last)",
      "Cell \u001b[1;32mIn[72], line 21\u001b[0m\n\u001b[0;32m     19\u001b[0m soup \u001b[39m=\u001b[39m BeautifulSoup(driver\u001b[39m.\u001b[39mpage_source,\u001b[39m'\u001b[39m\u001b[39mhtml.parser\u001b[39m\u001b[39m'\u001b[39m)\n\u001b[0;32m     20\u001b[0m li_list \u001b[39m=\u001b[39m soup\u001b[39m.\u001b[39mselect(\u001b[39m'\u001b[39m\u001b[39m.ContentList__content_list--q5KXY>li.item\u001b[39m\u001b[39m'\u001b[39m)\n\u001b[1;32m---> 21\u001b[0m link \u001b[39m=\u001b[39m driver\u001b[39m.\u001b[39;49mfind_element_by_css_selector(\u001b[39m'\u001b[39;49m\u001b[39m.ContentList__content_list--q5KXY>li.item.Poster__link--sopnC\u001b[39;49m\u001b[39m'\u001b[39;49m)\n\u001b[0;32m     22\u001b[0m \u001b[39m# 링크를 선택할 CSS 선택자로 수정\u001b[39;00m\n\u001b[0;32m     23\u001b[0m link\u001b[39m.\u001b[39mclick()\n",
      "File \u001b[1;32mc:\\HJE_Python\\.conda\\lib\\site-packages\\selenium\\webdriver\\remote\\webdriver.py:598\u001b[0m, in \u001b[0;36mWebDriver.find_element_by_css_selector\u001b[1;34m(self, css_selector)\u001b[0m\n\u001b[0;32m    582\u001b[0m \u001b[39mdef\u001b[39;00m \u001b[39mfind_element_by_css_selector\u001b[39m(\u001b[39mself\u001b[39m, css_selector):\n\u001b[0;32m    583\u001b[0m \u001b[39m    \u001b[39m\u001b[39m\"\"\"\u001b[39;00m\n\u001b[0;32m    584\u001b[0m \u001b[39m    Finds an element by css selector.\u001b[39;00m\n\u001b[0;32m    585\u001b[0m \n\u001b[1;32m   (...)\u001b[0m\n\u001b[0;32m    596\u001b[0m \u001b[39m        element = driver.find_element_by_css_selector('#foo')\u001b[39;00m\n\u001b[0;32m    597\u001b[0m \u001b[39m    \"\"\"\u001b[39;00m\n\u001b[1;32m--> 598\u001b[0m     \u001b[39mreturn\u001b[39;00m \u001b[39mself\u001b[39;49m\u001b[39m.\u001b[39;49mfind_element(by\u001b[39m=\u001b[39;49mBy\u001b[39m.\u001b[39;49mCSS_SELECTOR, value\u001b[39m=\u001b[39;49mcss_selector)\n",
      "File \u001b[1;32mc:\\HJE_Python\\.conda\\lib\\site-packages\\selenium\\webdriver\\remote\\webdriver.py:976\u001b[0m, in \u001b[0;36mWebDriver.find_element\u001b[1;34m(self, by, value)\u001b[0m\n\u001b[0;32m    974\u001b[0m         by \u001b[39m=\u001b[39m By\u001b[39m.\u001b[39mCSS_SELECTOR\n\u001b[0;32m    975\u001b[0m         value \u001b[39m=\u001b[39m \u001b[39m'\u001b[39m\u001b[39m[name=\u001b[39m\u001b[39m\"\u001b[39m\u001b[39m%s\u001b[39;00m\u001b[39m\"\u001b[39m\u001b[39m]\u001b[39m\u001b[39m'\u001b[39m \u001b[39m%\u001b[39m value\n\u001b[1;32m--> 976\u001b[0m \u001b[39mreturn\u001b[39;00m \u001b[39mself\u001b[39;49m\u001b[39m.\u001b[39;49mexecute(Command\u001b[39m.\u001b[39;49mFIND_ELEMENT, {\n\u001b[0;32m    977\u001b[0m     \u001b[39m'\u001b[39;49m\u001b[39musing\u001b[39;49m\u001b[39m'\u001b[39;49m: by,\n\u001b[0;32m    978\u001b[0m     \u001b[39m'\u001b[39;49m\u001b[39mvalue\u001b[39;49m\u001b[39m'\u001b[39;49m: value})[\u001b[39m'\u001b[39m\u001b[39mvalue\u001b[39m\u001b[39m'\u001b[39m]\n",
      "File \u001b[1;32mc:\\HJE_Python\\.conda\\lib\\site-packages\\selenium\\webdriver\\remote\\webdriver.py:321\u001b[0m, in \u001b[0;36mWebDriver.execute\u001b[1;34m(self, driver_command, params)\u001b[0m\n\u001b[0;32m    319\u001b[0m response \u001b[39m=\u001b[39m \u001b[39mself\u001b[39m\u001b[39m.\u001b[39mcommand_executor\u001b[39m.\u001b[39mexecute(driver_command, params)\n\u001b[0;32m    320\u001b[0m \u001b[39mif\u001b[39;00m response:\n\u001b[1;32m--> 321\u001b[0m     \u001b[39mself\u001b[39;49m\u001b[39m.\u001b[39;49merror_handler\u001b[39m.\u001b[39;49mcheck_response(response)\n\u001b[0;32m    322\u001b[0m     response[\u001b[39m'\u001b[39m\u001b[39mvalue\u001b[39m\u001b[39m'\u001b[39m] \u001b[39m=\u001b[39m \u001b[39mself\u001b[39m\u001b[39m.\u001b[39m_unwrap_value(\n\u001b[0;32m    323\u001b[0m         response\u001b[39m.\u001b[39mget(\u001b[39m'\u001b[39m\u001b[39mvalue\u001b[39m\u001b[39m'\u001b[39m, \u001b[39mNone\u001b[39;00m))\n\u001b[0;32m    324\u001b[0m     \u001b[39mreturn\u001b[39;00m response\n",
      "File \u001b[1;32mc:\\HJE_Python\\.conda\\lib\\site-packages\\selenium\\webdriver\\remote\\errorhandler.py:242\u001b[0m, in \u001b[0;36mErrorHandler.check_response\u001b[1;34m(self, response)\u001b[0m\n\u001b[0;32m    240\u001b[0m         alert_text \u001b[39m=\u001b[39m value[\u001b[39m'\u001b[39m\u001b[39malert\u001b[39m\u001b[39m'\u001b[39m]\u001b[39m.\u001b[39mget(\u001b[39m'\u001b[39m\u001b[39mtext\u001b[39m\u001b[39m'\u001b[39m)\n\u001b[0;32m    241\u001b[0m     \u001b[39mraise\u001b[39;00m exception_class(message, screen, stacktrace, alert_text)\n\u001b[1;32m--> 242\u001b[0m \u001b[39mraise\u001b[39;00m exception_class(message, screen, stacktrace)\n",
      "\u001b[1;31mNoSuchElementException\u001b[0m: Message: no such element: Unable to locate element: {\"method\":\"css selector\",\"selector\":\".ContentList__content_list--q5KXY>li.item.Poster__link--sopnC\"}\n  (Session info: chrome=114.0.5735.134)\n"
     ]
    }
   ],
   "source": [
    "## Naver 웹툰 크롤링해서 장르에 따른 조회수,좋아요로 인기분석?해서 시각화\n",
    "from selenium import webdriver\n",
    "from bs4 import BeautifulSoup\n",
    "import pandas as pd\n",
    "\n",
    "driver = webdriver.Chrome()\n",
    "    \n",
    "## url\n",
    "url = 'https://comic.naver.com/webtoon?tab='\n",
    "\n",
    "day = ['mon','tue','wed','thu','fri','sat','sun']\n",
    "\n",
    "# df 만들 빈 배열 생성\n",
    "webtoon = []\n",
    "\n",
    "# 요일별 웹툰 나눠서 제목, 작가, 평점 나오게 하기\n",
    "for i in day:   \n",
    "     response = driver.get(url+i)    \n",
    "     soup = BeautifulSoup(driver.page_source,'html.parser')\n",
    "     li_list = soup.select('.ContentList__content_list--q5KXY>li.item')\n",
    "     link = driver.find_element_by_css_selector('.Poster__link--sopnC')\n",
    "     # 링크를 선택할 CSS 선택자로 수정\n",
    "     link.click()\n",
    "     # response = driver.get(response+link)\n",
    "#      for li in li_list:      \n",
    "#           #soup1 = BeautifulSoup(driver.page_source, 'html.parser')    \n",
    "#           title = li.select_one('.ContentTitle__title--e3qXt>.text').text\n",
    "#           writer = li.select_one('.ContentAuthor__author--CTAAP').text\n",
    "#           score = li.select_one('.Rating__star_area--dFzsb>.text').text\n",
    "\n",
    "#           webtoon.append([title, writer,score])\n",
    "\n",
    "# webtoon\n",
    "\n",
    "# df = pd.DataFrame(webtoon, columns=['제목','작가','평점'])\n",
    "# df.head()\n",
    "\n",
    "# ## csv파일 저장\n",
    "# df.to_csv('webtoon.info.csv',index=False,encoding='cp949')"
   ]
  },
  {
   "cell_type": "code",
   "execution_count": 63,
   "metadata": {},
   "outputs": [
    {
     "name": "stdout",
     "output_type": "stream",
     "text": [
      "[]\n"
     ]
    }
   ],
   "source": [
    "from selenium import webdriver\n",
    "from bs4 import BeautifulSoup\n",
    "\n",
    "driver = webdriver.Chrome()\n",
    "\n",
    "url = 'https://comic.naver.com/webtoon'\n",
    "response = driver.get(url)\n",
    "\n",
    "soup = BeautifulSoup(driver.page_source, 'html.parser')\n",
    "day_tab_list = soup.select('.WeekdayMainView__daily_list--R52q0')\n",
    "webtoon_list = []\n",
    "print(day_tab_list)\n",
    "\n",
    "\n",
    "\n",
    "# for day_tab in day_tab_list:\n",
    "#     day_link = day_tab.find('a')['href']\n",
    "#     day_name = day_tab.find('a').text.strip()\n",
    "    \n",
    "#     day_url = url + day_link\n",
    "#     response = driver.get(day_url)\n",
    "    \n",
    "#     # day_soup = BeautifulSoup(driver.page_source, 'html.parser')\n",
    "#     # li_list = day_soup.find_all('li', {'class': 'item'})\n",
    "    \n",
    "\n",
    "#     # for li in li_list:\n",
    "#     #     title = li.select_one('.title').text.strip()\n",
    "#     #     author = li.select_one('.author').text.strip()\n",
    "#     #     webtoon_list.append([day_name, title, author])\n",
    "\n",
    "# driver.quit()\n",
    "\n",
    "\n",
    "# for webtoon in webtoon_list:\n",
    "#     print(webtoon)"
   ]
  },
  {
   "cell_type": "code",
   "execution_count": 48,
   "metadata": {},
   "outputs": [
    {
     "name": "stdout",
     "output_type": "stream",
     "text": [
      "웹툰 목록을 가져올 수 없습니다.\n"
     ]
    }
   ],
   "source": [
    "import requests\n",
    "from bs4 import BeautifulSoup\n",
    "\n",
    "def get_webtoon_list():\n",
    "    # 웹툰 목록 페이지 URL\n",
    "    url = 'https://comic.naver.com/webtoon/weekday.nhn'\n",
    "\n",
    "    # HTTP GET 요청 보내기\n",
    "    response = requests.get(url)\n",
    "    \n",
    "    # 응답코드 확인\n",
    "    if response.status_code == 200:\n",
    "        # BeautifulSoup을 사용하여 HTML 파싱\n",
    "        soup = BeautifulSoup(response.content, 'html.parser')\n",
    "        \n",
    "        # 웹툰 목록을 담고 있는 태그 선택\n",
    "        webtoon_list = soup.select('.daily_all .col')\n",
    "\n",
    "        # 웹툰 정보를 저장할 리스트\n",
    "        result = []\n",
    "\n",
    "        # 웹툰 목록 순회\n",
    "        for webtoon in webtoon_list:\n",
    "            # 작가 정보 가져오기\n",
    "            author = webtoon.select_one('.col_inner a.title').get_text(strip=True)\n",
    "            \n",
    "            # 제목 정보 가져오기\n",
    "            title = webtoon.select_one('.col_inner h4 a').get_text(strip=True)\n",
    "            \n",
    "            # 평점 정보 가져오기\n",
    "            rating = webtoon.select_one('.col_inner .rating_type strong').get_text(strip=True)\n",
    "            \n",
    "            # 결과에 추가하기\n",
    "            result.append({\n",
    "                'author': author,\n",
    "                'title': title,\n",
    "                'rating': rating\n",
    "            })\n",
    "\n",
    "        return result\n",
    "    else:\n",
    "        print('Error:', response.status_code)\n",
    "\n",
    "# 웹툰 목록 크롤링 결과 출력\n",
    "webtoons = get_webtoon_list()\n",
    "if webtoons:\n",
    "    for webtoon in webtoons:\n",
    "        print('작가:', webtoon['author'])\n",
    "        print('제목:', webtoon['title'])\n",
    "        print('평점:', webtoon['rating'])\n",
    "        print('---')\n",
    "else:\n",
    "    print('웹툰 목록을 가져올 수 없습니다.')"
   ]
  }
 ],
 "metadata": {
  "kernelspec": {
   "display_name": "Python 3",
   "language": "python",
   "name": "python3"
  },
  "language_info": {
   "codemirror_mode": {
    "name": "ipython",
    "version": 3
   },
   "file_extension": ".py",
   "mimetype": "text/x-python",
   "name": "python",
   "nbconvert_exporter": "python",
   "pygments_lexer": "ipython3",
   "version": "3.10.11"
  },
  "orig_nbformat": 4
 },
 "nbformat": 4,
 "nbformat_minor": 2
}
