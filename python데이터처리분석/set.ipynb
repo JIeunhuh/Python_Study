{
 "cells": [
  {
   "attachments": {},
   "cell_type": "markdown",
   "metadata": {},
   "source": [
    "# SET\n"
   ]
  },
  {
   "cell_type": "code",
   "execution_count": 12,
   "metadata": {},
   "outputs": [
    {
     "name": "stdout",
     "output_type": "stream",
     "text": [
      "[13, 16, 20, 26, 30, 35] "
     ]
    }
   ],
   "source": [
    "#1부터 45까지의 수 중 6개를 택해서 로또번호 만들기\n",
    "import random as rd\n",
    "pick = set()\n",
    "while len(pick)<6:\n",
    "    num = rd.randint(1,45)\n",
    "    pick.add(num)\n",
    "print(sorted(pick), end=' ')"
   ]
  },
  {
   "cell_type": "code",
   "execution_count": 16,
   "metadata": {},
   "outputs": [
    {
     "name": "stdout",
     "output_type": "stream",
     "text": [
      "Alice  :  90.0\n",
      "Bob  :  80.0\n",
      "Charlie  :  95.0\n"
     ]
    }
   ],
   "source": [
    "# 학생들의 성적을 딕셔너리로 저장하고, 성적 평균을 계산하는 프로그램을 작성해보세요.\n",
    "\n",
    "score ={\n",
    "    \"Alice\": [85, 90, 95],\n",
    "    \"Bob\": [75, 80, 85],\n",
    "    \"Charlie\": [95, 95, 95]\n",
    "}\n",
    "\n",
    "for name, grade in score.items():\n",
    "    avg = sum(grade)/len(grade)\n",
    "    print(name, ' : ', avg)"
   ]
  },
  {
   "cell_type": "code",
   "execution_count": 19,
   "metadata": {},
   "outputs": [
    {
     "name": "stdout",
     "output_type": "stream",
     "text": [
      "15\n"
     ]
    }
   ],
   "source": [
    "# 숫자들이 들어있는 리스트에서 중복된 숫자를 제거하고, 남은 숫자들의 합을 계산하는 프로그램을 작성해보세요.\n",
    "\n",
    "num = [1, 2, 2, 3, 3, 3, 4, 4, 5]\n",
    "setN = set(num)\n",
    "print(sum(setN))"
   ]
  },
  {
   "cell_type": "code",
   "execution_count": 24,
   "metadata": {},
   "outputs": [
    {
     "name": "stdout",
     "output_type": "stream",
     "text": [
      "{'H': 1, 'e': 1, 'l': 3, 'o': 2, ',': 1, ' ': 1, 'w': 1, 'r': 1, 'd': 1, '!': 1}\n"
     ]
    }
   ],
   "source": [
    "# 주어진 문자열에서 각 알파벳의 빈도수를 구하는 프로그램을 작성하시오.\n",
    "\n",
    "text = \"Hello, world!\"\n",
    "\n",
    "setT = {}\n",
    "\n",
    "for char in text:\n",
    "    if char in setT:\n",
    "        setT[char] += 1\n",
    "    else:\n",
    "        setT[char] = 1\n",
    "\n",
    "print(setT)"
   ]
  },
  {
   "cell_type": "code",
   "execution_count": 25,
   "metadata": {},
   "outputs": [
    {
     "name": "stdout",
     "output_type": "stream",
     "text": [
      "[2, 4]\n"
     ]
    }
   ],
   "source": [
    "# 두 개의 리스트가 주어졌을 때, \n",
    "# 두 리스트에 공통으로 포함된 요소를 모두 담은 리스트를 반환하는 프로그램을 작성하시오.\n",
    "\n",
    "list1 = [1, 2, 3, 4, 5]\n",
    "list2 = [2, 4, 6, 8, 10]\n",
    "\n",
    "set1 = set(list1)\n",
    "set2 = set(list2)\n",
    "print(list(set1&set2))"
   ]
  }
 ],
 "metadata": {
  "kernelspec": {
   "display_name": "Python 3",
   "language": "python",
   "name": "python3"
  },
  "language_info": {
   "codemirror_mode": {
    "name": "ipython",
    "version": 3
   },
   "file_extension": ".py",
   "mimetype": "text/x-python",
   "name": "python",
   "nbconvert_exporter": "python",
   "pygments_lexer": "ipython3",
   "version": "3.10.11"
  },
  "orig_nbformat": 4
 },
 "nbformat": 4,
 "nbformat_minor": 2
}
