{
 "cells": [
  {
   "attachments": {},
   "cell_type": "markdown",
   "metadata": {},
   "source": [
    "# __파일 읽기__\n",
    "\n",
    " 1. __파일 객체를 사용해 파일내용을 읽을 수 있음__\n",
    "   - read() : 파일 내용 전체를 문자열로 읽음\n",
    "   - readline() : 파일에서 한줄을 읽음. 파일 끝에 도달하면 빈 문자열 반환\n",
    "   - readlines() : 파일 전체를 읽고 각 줄을 문자열의 리스트로 반환\n",
    "\n",
    " 2. __파일 객체를 사용해 파일 내용을 쓴다__\n",
    "   - write() : 파일에 문자열을 씀\n",
    "   - writelines() : 파일에 문자열의 리스트를 씀  "
   ]
  },
  {
   "cell_type": "code",
   "execution_count": null,
   "metadata": {},
   "outputs": [],
   "source": []
  }
 ],
 "metadata": {
  "language_info": {
   "name": "python"
  },
  "orig_nbformat": 4
 },
 "nbformat": 4,
 "nbformat_minor": 2
}
