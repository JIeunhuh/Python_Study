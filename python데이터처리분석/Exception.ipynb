{
 "cells": [
  {
   "attachments": {},
   "cell_type": "markdown",
   "metadata": {},
   "source": [
    "# 예외 처리\n",
    "\n",
    "- ValueError : 잘못된 값이 사용될 때\n",
    "- TypeError : 잘못된 타입의 객체가 사용될 때\n",
    "- IndexError : 인덱스 범위를 벗어난 경우\n",
    "- KeyError : 사전에 존재 하지 않는 키를 참조할 때\n",
    "- FileNotFoundError : 존재하지 않는 파일을 열려고 할 때"
   ]
  },
  {
   "cell_type": "code",
   "execution_count": null,
   "metadata": {},
   "outputs": [],
   "source": [
    "## Try - Except\n",
    "\n",
    "# try : \n",
    "    #예외 발생가능성 있는 코드\n",
    " # except [예외타입]:\n",
    "        # 예외가 발생했을 때 실행할 코드"
   ]
  },
  {
   "cell_type": "code",
   "execution_count": 3,
   "metadata": {},
   "outputs": [
    {
     "name": "stdout",
     "output_type": "stream",
     "text": [
      "You entered the number 7\n"
     ]
    }
   ],
   "source": [
    "# ValueError 처리\n",
    "# try - except\n",
    "# try - except - else\n",
    "try: \n",
    "    user_input = input('Enter a number : ')\n",
    "    number = int(user_input)\n",
    "except ValueError:\n",
    "    # !int type 이면 예외 발생\n",
    "    print('Invalid input. Please enter a valid number')\n",
    "# else (예외가 발생하지 않았을떄 실행할 구문)\n",
    "else:\n",
    "    print(f'You entered the number {number}')"
   ]
  },
  {
   "cell_type": "code",
   "execution_count": null,
   "metadata": {},
   "outputs": [],
   "source": [
    "# try - except - finally(예외 발생여부와 상관없이 항상 실행함)\n"
   ]
  },
  {
   "attachments": {},
   "cell_type": "markdown",
   "metadata": {},
   "source": [
    "### 연습문제"
   ]
  },
  {
   "cell_type": "code",
   "execution_count": 7,
   "metadata": {},
   "outputs": [
    {
     "name": "stdout",
     "output_type": "stream",
     "text": [
      "1\n"
     ]
    }
   ],
   "source": [
    "# data = {\"Sun\": 0, \"Mon\": 1, \"Tue\": 2, \"Wed\": 3, \"Thu\": 4, \"Fri\": 5, \"Sat\": 6} 이 주어질 때 try-except문을 이용하여 다음과 같이 동작하는 프로그램을 작성하라.\n",
    "\n",
    "data = {\"Sun\": 0, \"Mon\": 1, \"Tue\": 2, \"Wed\": 3, \"Thu\": 4, \"Fri\": 5, \"Sat\": 6}\n",
    "try:\n",
    "    user = input('요일을 입력하세요')\n",
    "    value = data.get(user)\n",
    "    if value is not None:\n",
    "        print(value)\n",
    "except:\n",
    "    print(\"항목이 없습니다.\")\n"
   ]
  }
 ],
 "metadata": {
  "kernelspec": {
   "display_name": "Python 3",
   "language": "python",
   "name": "python3"
  },
  "language_info": {
   "codemirror_mode": {
    "name": "ipython",
    "version": 3
   },
   "file_extension": ".py",
   "mimetype": "text/x-python",
   "name": "python",
   "nbconvert_exporter": "python",
   "pygments_lexer": "ipython3",
   "version": "3.10.11"
  },
  "orig_nbformat": 4
 },
 "nbformat": 4,
 "nbformat_minor": 2
}
