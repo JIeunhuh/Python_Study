{
 "cells": [
  {
   "attachments": {},
   "cell_type": "markdown",
   "metadata": {},
   "source": [
    "# 예외 처리\n",
    "\n",
    "- ValueError : 잘못된 값이 사용될 때\n",
    "- TypeError : 잘못된 타입의 객체가 사용될 때\n",
    "- IndexError : 인덱스 범위를 벗어난 경우\n",
    "- KeyError : 사전에 존재 하지 않는 키를 참조할 때\n",
    "- FileNotFoundError : 존재하지 않는 파일을 열려고 할 때"
   ]
  },
  {
   "cell_type": "code",
   "execution_count": null,
   "metadata": {},
   "outputs": [],
   "source": [
    "## Try - Except\n",
    "\n",
    "# try : \n",
    "    #예외 발생가능성 있는 코드\n",
    " # except [예외타입]:\n",
    "        # 예외가 발생했을 때 실행할 코드"
   ]
  },
  {
   "cell_type": "code",
   "execution_count": 2,
   "metadata": {},
   "outputs": [
    {
     "name": "stdout",
     "output_type": "stream",
     "text": [
      "Invalid input. Please enter a valid number\n"
     ]
    }
   ],
   "source": [
    "# ValueError 처리\n",
    "try: \n",
    "    user_input = input('Enter a number : ')\n",
    "    number = int(user_input)\n",
    "except ValueError:\n",
    "    # !int type 이면 예외 발생\n",
    "    print('Invalid input. Please enter a valid number')"
   ]
  }
 ],
 "metadata": {
  "kernelspec": {
   "display_name": "Python 3",
   "language": "python",
   "name": "python3"
  },
  "language_info": {
   "codemirror_mode": {
    "name": "ipython",
    "version": 3
   },
   "file_extension": ".py",
   "mimetype": "text/x-python",
   "name": "python",
   "nbconvert_exporter": "python",
   "pygments_lexer": "ipython3",
   "version": "3.10.11"
  },
  "orig_nbformat": 4
 },
 "nbformat": 4,
 "nbformat_minor": 2
}
