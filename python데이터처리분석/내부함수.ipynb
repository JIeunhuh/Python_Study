{
 "cells": [
  {
   "attachments": {},
   "cell_type": "markdown",
   "metadata": {},
   "source": [
    "# Inner Function(내부 함수)\n",
    " - 함수 안에서 또 다른 함수를 정의 함\n",
    " - 내부 함수는 외부 함수의 매개 변수와 지역 변수에 접근 할 수 있음 "
   ]
  },
  {
   "cell_type": "code",
   "execution_count": 1,
   "metadata": {},
   "outputs": [
    {
     "name": "stdout",
     "output_type": "stream",
     "text": [
      "40\n"
     ]
    }
   ],
   "source": [
    "def outer_func(x):\n",
    "    def inner_func(y):\n",
    "        return x + y\n",
    "    return inner_func\n",
    "\n",
    "result = outer_func(20)\n",
    "print(result(20))"
   ]
  },
  {
   "attachments": {},
   "cell_type": "markdown",
   "metadata": {},
   "source": [
    "####  내부 함수 이용해서 간단한 계산기 함수 구현하기"
   ]
  },
  {
   "cell_type": "code",
   "execution_count": 7,
   "metadata": {},
   "outputs": [
    {
     "name": "stdout",
     "output_type": "stream",
     "text": [
      "30\n",
      "-10\n"
     ]
    }
   ],
   "source": [
    "def cal():\n",
    "    def add(a,b):\n",
    "        return a+b\n",
    "    def substract(a,b):\n",
    "        return a-b\n",
    "    def multiply(a,b):\n",
    "        return a*b\n",
    "    return add, substract, multiply\n",
    "\n",
    "d, substract, multiply = cal()\n",
    "print(d(10,20))\n",
    "print(substract(20,30))"
   ]
  },
  {
   "cell_type": "code",
   "execution_count": 8,
   "metadata": {},
   "outputs": [
    {
     "name": "stdout",
     "output_type": "stream",
     "text": [
      "x in inner: inner\n",
      "x in outer: outer\n",
      "x in global: global\n"
     ]
    }
   ],
   "source": [
    "# 함수 내 변수 참조 순서\n",
    "x = 'global'\n",
    "\n",
    "def outer():\n",
    "    x = 'outer'\n",
    "    \n",
    "    def inner():\n",
    "        x = 'inner'\n",
    "        print('x in inner:', x) #1 ; local변수(지역변수)\n",
    "    \n",
    "    inner()\n",
    "    print('x in outer:', x) #2 ; 함수를 포함하는 중첩함수 내부의 변수(outer()의 지역변수)\n",
    "\n",
    "outer()\n",
    "print('x in global:', x) #3 ; 전역변수"
   ]
  },
  {
   "attachments": {},
   "cell_type": "markdown",
   "metadata": {},
   "source": [
    "### 내장 함수\n",
    " - 내장함수(built-in function)는 기본적으로 파이썬에서 제공하는 함수들을 말함. 별도의 import 필요 없음"
   ]
  },
  {
   "cell_type": "code",
   "execution_count": null,
   "metadata": {},
   "outputs": [],
   "source": [
    "# 1. enumerate() 내장 함수를 이용하여 사용자가 입력한 문자열에서 'a' 문자의 위치를 모두 찾아 출력하는 프로그램을 작성하라. 'a'가 없으면 \"a가 없습니다'라는 메시지를 출력하라.\n",
    "\n",
    "\n"
   ]
  },
  {
   "cell_type": "code",
   "execution_count": 19,
   "metadata": {},
   "outputs": [
    {
     "name": "stdout",
     "output_type": "stream",
     "text": [
      "30\n"
     ]
    }
   ],
   "source": [
    "# 2. 두 수의 합(sum), 차(sub), 곱(mul), 나누기(div)를 수행하는 함수를 각각 정의하라. 딕셔너리를 이용하여 사용자가 '1'을 입력하면 sum()을 호출하고, '2'를 입력하면 sub(), '3'을 입력하면 mul(), '4'를 입력하면 div() 함수를 호출하여 두 수의 연산을 수행하는 프로그램을 작성하라.\n",
    "\n",
    "def sum(a,b):\n",
    "    return a+b\n",
    "def sub(a,b):\n",
    "    return a-b\n",
    "def mul(a,b):\n",
    "    return a*b\n",
    "def div(a,b):\n",
    "    return a/b\n",
    "\n",
    "n=input()\n",
    "\n",
    "a=10\n",
    "b=20\n",
    "cur = {'1':sum,'2':sub,'3':mul,'4':div}\n",
    "func = cur[n]\n",
    "print(func(a,b))\n",
    "        \n",
    "    \n",
    "  "
   ]
  },
  {
   "cell_type": "code",
   "execution_count": 30,
   "metadata": {},
   "outputs": [
    {
     "name": "stdout",
     "output_type": "stream",
     "text": [
      "{'led': 'on', 'motor': 'off', 'switch': 'off'}\n"
     ]
    }
   ],
   "source": [
    "# 3. 다음과 같이 구성되는 문자열을 구분 문자(&, =)로 분리하여 딕셔너리로 반환하는 함수 작성\n",
    "def replaceDic(txt):\n",
    "    items =  txt.split('&')\n",
    "    temp=[]\n",
    "    for item in items:\n",
    "        temp.append(item.split('='))\n",
    "    \n",
    "    return dict(temp)\n",
    "\n",
    "str1 = 'led=on&motor=off&switch=off' \n",
    "print(replaceDic(str1))"
   ]
  }
 ],
 "metadata": {
  "kernelspec": {
   "display_name": "Python 3",
   "language": "python",
   "name": "python3"
  },
  "language_info": {
   "codemirror_mode": {
    "name": "ipython",
    "version": 3
   },
   "file_extension": ".py",
   "mimetype": "text/x-python",
   "name": "python",
   "nbconvert_exporter": "python",
   "pygments_lexer": "ipython3",
   "version": "3.10.11"
  },
  "orig_nbformat": 4
 },
 "nbformat": 4,
 "nbformat_minor": 2
}
