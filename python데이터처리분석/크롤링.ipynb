{
 "cells": [
  {
   "attachments": {},
   "cell_type": "markdown",
   "metadata": {},
   "source": [
    "## __웹 스크래핑이란?__  \n",
    "- 웹스크래핑의 개념과 목적  \n",
    "    \n",
    "  웹페이지에서 데이터를 추출하여 수집하는 것. 데이터 수집 및 분석, 기업 비교 및 분석 등의 목적으로 사용"
   ]
  },
  {
   "cell_type": "code",
   "execution_count": 3,
   "metadata": {},
   "outputs": [
    {
     "name": "stdout",
     "output_type": "stream",
     "text": [
      "SK에코플랜트·도로공사, 카자흐스탄 알마티 순환도로 개통\n",
      "“집회·시위 제한’ 강제조항 아니잖냐” 물음에…홍준표 “질문 같지도 않은” 막말\n",
      "국힘 “윤=입시 전문가” 주장에 “버닝썬 수사하면 유흥 전문가?”\n",
      "“대전시인권센터에서 반인권 행위 벌어져”…시민단체 인권위에 진정\n",
      "금융위 “해외진출 때 금산분리 완화”…‘리스크 관리’ 관건\n",
      "[Reportage] Mass funeral rally held in Seoul 47 days after unionist’s self-immolation\n",
      "First Seoul, now Daegu – why Pride events in Korea are being challenged by local governments\n",
      "제주항공서 또 ‘출입문 개방’ 시도…승무원 등이 제압\n",
      "IAEA 검토는 오염수 방출 지원 ‘맞춤형 컨설팅 프로젝트’?\n",
      "체포동의안 부결 넉 달 만에…이재명 ‘불체포 특권’ 포기, 왜\n",
      "N. Korea vows greater progress as party plenum kicks off\n",
      "서울 한낮 35도…때 이른 폭염에 대처하는 자세\n",
      "[Column] The significance of China’s 20.8% youth unemployment rate\n",
      "“대통령실 해명, ‘바이든-날리면’ 떠올라”…민주, ‘수능 발언’ 공세\n",
      "Blinken calls for communication with Beijing, Qin answers with demands on Taiwan issue\n"
     ]
    }
   ],
   "source": [
    "import requests\n",
    "from bs4 import BeautifulSoup\n",
    "\n",
    "url = \"https://www.hani.co.kr/arti/list.html?sec=news&subsec=politics\"\n",
    "response = requests.get(url)\n",
    "# print(response.text)\n",
    "\n",
    "soup = BeautifulSoup(response.text, \"html.parser\")\n",
    "titles = soup.find_all(\"h4\", class_=\"article-title\")\n",
    "for title in titles:\n",
    "    print(title.text.strip())\n",
    "\n"
   ]
  },
  {
   "attachments": {},
   "cell_type": "markdown",
   "metadata": {},
   "source": [
    "### __request.get(url)__\n",
    "  \n",
    "   - get() 메서드가 반환하는 객체는 Response 객체\n",
    "   - 이 객체는 HTTP 응답에 대한 정보를 가지고 있으며, HTML 코드는 text속성에 저장"
   ]
  },
  {
   "cell_type": "code",
   "execution_count": 18,
   "metadata": {},
   "outputs": [],
   "source": [
    "# 웹스크래핑 예시\n",
    "## 다음 영화 예매 순위 정보 출력\n",
    "import pandas as pd\n",
    "import requests\n",
    "from bs4 import BeautifulSoup\n",
    "## 웹스크래핑해서 읽어온 data -> dataFrame으로 바꿔서 csv 파일로 저장하기\n",
    "url = 'https://movie.daum.net/ranking/reservation'\n",
    "response = requests.get(url)\n",
    "#print(response.text)\n",
    "soup = BeautifulSoup(response.text, 'html.parser')\n",
    "ol = soup.select_one('.list_movieranking')\n",
    "li_list=ol.find_all('li')\n",
    "\n",
    "#print(li_list[0])\n",
    "movie =[]\n",
    "\n",
    "for li in li_list:\n",
    "    rank = li.select_one('.rank_num').text\n",
    "    name = li.select_one('.link_txt').text\n",
    "    see = li.select_one('.ico_see').text\n",
    "    grade = li.select_one('.txt_grade').text\n",
    "    num = li.select_one('.txt_num').text[:-1]\n",
    "    mvdate = li.select_one('.txt_info>.txt_num').text\n",
    "    \n",
    "    movie.append([rank,name,see,grade,num,mvdate])\n",
    "\n",
    "df = pd.DataFrame(movie,columns=['순위','영화명','관람가','평점','예매율','개봉일'])\n",
    "df.head()\n",
    "## csv파일 저장\n",
    "df.to_csv('movie_info.csv',index=False,encoding='cp949')\n",
    "\n",
    "# rank_list = soup.select('div.thumb_cont > strong > a')\n",
    "# rank_rate = soup.select('span.txt_append > span > span')\n",
    "\n",
    "# for rank, title in enumerate(rank_list, 1):\n",
    "#     print(f'{rank}위: {title.text} 예매율({rank_rate[rank-1].text})')\n"
   ]
  },
  {
   "cell_type": "code",
   "execution_count": 28,
   "metadata": {},
   "outputs": [
    {
     "data": {
      "text/html": [
       "<div>\n",
       "<style scoped>\n",
       "    .dataframe tbody tr th:only-of-type {\n",
       "        vertical-align: middle;\n",
       "    }\n",
       "\n",
       "    .dataframe tbody tr th {\n",
       "        vertical-align: top;\n",
       "    }\n",
       "\n",
       "    .dataframe thead th {\n",
       "        text-align: right;\n",
       "    }\n",
       "</style>\n",
       "<table border=\"1\" class=\"dataframe\">\n",
       "  <thead>\n",
       "    <tr style=\"text-align: right;\">\n",
       "      <th></th>\n",
       "      <th>순위</th>\n",
       "      <th>영화명</th>\n",
       "      <th>관람가</th>\n",
       "      <th>평점</th>\n",
       "      <th>예매율</th>\n",
       "      <th>개봉일</th>\n",
       "    </tr>\n",
       "  </thead>\n",
       "  <tbody>\n",
       "    <tr>\n",
       "      <th>0</th>\n",
       "      <td>1</td>\n",
       "      <td>스파이더맨: 어크로스 더 유니버스</td>\n",
       "      <td>전체관람가</td>\n",
       "      <td>8.9</td>\n",
       "      <td>26.4</td>\n",
       "      <td>2023-06-21</td>\n",
       "    </tr>\n",
       "    <tr>\n",
       "      <th>1</th>\n",
       "      <td>2</td>\n",
       "      <td>귀공자</td>\n",
       "      <td>청소년관람불가</td>\n",
       "      <td>8.6</td>\n",
       "      <td>21.0</td>\n",
       "      <td>2023-06-21</td>\n",
       "    </tr>\n",
       "    <tr>\n",
       "      <th>2</th>\n",
       "      <td>3</td>\n",
       "      <td>엘리멘탈</td>\n",
       "      <td>전체관람가</td>\n",
       "      <td>8.8</td>\n",
       "      <td>16.0</td>\n",
       "      <td>2023-06-14</td>\n",
       "    </tr>\n",
       "    <tr>\n",
       "      <th>3</th>\n",
       "      <td>4</td>\n",
       "      <td>범죄도시3</td>\n",
       "      <td>15세이상관람가</td>\n",
       "      <td>6.7</td>\n",
       "      <td>13.1</td>\n",
       "      <td>2023-05-31</td>\n",
       "    </tr>\n",
       "    <tr>\n",
       "      <th>4</th>\n",
       "      <td>5</td>\n",
       "      <td>플래시</td>\n",
       "      <td>12세이상관람가</td>\n",
       "      <td>8.0</td>\n",
       "      <td>6.6</td>\n",
       "      <td>2023-06-14</td>\n",
       "    </tr>\n",
       "  </tbody>\n",
       "</table>\n",
       "</div>"
      ],
      "text/plain": [
       "   순위                 영화명       관람가   평점   예매율        개봉일\n",
       "0   1  스파이더맨: 어크로스 더 유니버스     전체관람가  8.9  26.4 2023-06-21\n",
       "1   2                 귀공자   청소년관람불가  8.6  21.0 2023-06-21\n",
       "2   3                엘리멘탈     전체관람가  8.8  16.0 2023-06-14\n",
       "3   4               범죄도시3  15세이상관람가  6.7  13.1 2023-05-31\n",
       "4   5                 플래시  12세이상관람가  8.0   6.6 2023-06-14"
      ]
     },
     "execution_count": 28,
     "metadata": {},
     "output_type": "execute_result"
    }
   ],
   "source": [
    "import pandas as pd\n",
    " \n",
    "df = pd.read_csv('/HJE_Python/python데이터처리분석/movie_info.csv',encoding='cp949')\n",
    "df.sort_values('평점',ascending=False)\n",
    "df['개봉일'] = pd.to_datetime(df['개봉일'],format=\"%y.%m.%d\")\n",
    "df.head()\n",
    "#df.info()"
   ]
  }
 ],
 "metadata": {
  "kernelspec": {
   "display_name": "Python 3",
   "language": "python",
   "name": "python3"
  },
  "language_info": {
   "codemirror_mode": {
    "name": "ipython",
    "version": 3
   },
   "file_extension": ".py",
   "mimetype": "text/x-python",
   "name": "python",
   "nbconvert_exporter": "python",
   "pygments_lexer": "ipython3",
   "version": "3.10.11"
  },
  "orig_nbformat": 4
 },
 "nbformat": 4,
 "nbformat_minor": 2
}
