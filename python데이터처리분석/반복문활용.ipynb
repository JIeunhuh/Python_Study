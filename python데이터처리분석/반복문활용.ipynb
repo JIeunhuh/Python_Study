{
 "cells": [
  {
   "attachments": {},
   "cell_type": "markdown",
   "metadata": {},
   "source": [
    "### 계산기 프로그램 만들기"
   ]
  },
  {
   "cell_type": "code",
   "execution_count": 8,
   "metadata": {},
   "outputs": [
    {
     "name": "stdout",
     "output_type": "stream",
     "text": [
      "[사칙연산 계산기]\n"
     ]
    }
   ],
   "source": [
    "#계산기 만들기\n",
    "print('[사칙연산 계산기]')\n",
    "while True:\n",
    "    a = input('첫번째 수를 입력하세요 : ')\n",
    "    b = input('두번째 수를 입력하세요 : ')\n",
    "    연산자 = input('연산자를 입력하세요 : ')\n",
    "    \n",
    "    if a == 'exit':\n",
    "         break\n",
    "    \n",
    "    a = int(a)\n",
    "    b = int(b)\n",
    "    \n",
    "    if 연산자 == '/':\n",
    "        print(a/b)\n",
    "    elif 연산자 == '+':\n",
    "        print(a+b)\n",
    "    elif 연산자 =='-':\n",
    "        print(a-b)\n",
    "    elif 연산자=='*':\n",
    "        print(a*b) \n",
    "        \n",
    "    "
   ]
  },
  {
   "attachments": {},
   "cell_type": "markdown",
   "metadata": {},
   "source": [
    "### 게임 프로그램 작성하기\n",
    " 동전 던져서 나오는 면에 따라 돈을 따고 잃음"
   ]
  },
  {
   "cell_type": "code",
   "execution_count": 9,
   "metadata": {},
   "outputs": [
    {
     "name": "stdout",
     "output_type": "stream",
     "text": [
      "예측 실패.. money : 40\n",
      "예측 성공! money : 49\n",
      "예측 실패.. money : 39\n",
      "예측 실패.. money : 29\n",
      "예측 성공! money : 38\n",
      "예측 성공! money : 47\n",
      "예측 성공! money : 56\n",
      "예측 성공! money : 65\n",
      "예측 실패.. money : 55\n",
      "예측 성공! money : 64\n",
      "예측 성공! money : 73\n",
      "예측 성공! money : 82\n",
      "예측 성공! money : 91\n",
      "예측 성공! money : 100\n"
     ]
    }
   ],
   "source": [
    "import random as rd\n",
    "coin = rd.randint(1,2)\n",
    "user_Money = 50\n",
    "while True:\n",
    "    predict = int(input('동전 방향 예측 : '))\n",
    "    if predict==coin:\n",
    "        user_Money = user_Money + 9\n",
    "        print(f'예측 성공! money : {user_Money}')\n",
    "    else :\n",
    "        user_Money = user_Money-10\n",
    "        print(f'예측 실패.. money : {user_Money}')\n",
    "        \n",
    "    if user_Money==0 or user_Money==100:\n",
    "         break\n",
    "         "
   ]
  },
  {
   "cell_type": "code",
   "execution_count": 11,
   "metadata": {},
   "outputs": [
    {
     "name": "stdout",
     "output_type": "stream",
     "text": [
      "최대공약수 = 40\n"
     ]
    }
   ],
   "source": [
    "#두 수의 최대 공약수\n",
    "n1 = int(input('숫자를 입력하세요 : '))\n",
    "n2 = int(input('숫자를 입력하세요 : '))\n",
    "\n",
    "while True:\n",
    "    나머지 = n1 % n2 \n",
    "    n1 = n2\n",
    "    n2 = 나머지\n",
    "    if n2==0:\n",
    "        break\n",
    "    print(f\"최대공약수 = {n1}\")"
   ]
  },
  {
   "cell_type": "code",
   "execution_count": 5,
   "metadata": {},
   "outputs": [
    {
     "name": "stdout",
     "output_type": "stream",
     "text": [
      "1, 2, 3, 4, 6, 8, 12, 24, "
     ]
    }
   ],
   "source": [
    "# 입력받은 정수의 약수 모두 출력\n",
    "n = int(input('숫자를 입력하세요 :'))\n",
    "\n",
    "for m in range(1,n+1):\n",
    "     if n%m==0:\n",
    "        print(m, end=\", \")\n",
    "        \n"
   ]
  },
  {
   "cell_type": "code",
   "execution_count": 3,
   "metadata": {},
   "outputs": [
    {
     "name": "stdout",
     "output_type": "stream",
     "text": [
      "F\n"
     ]
    }
   ],
   "source": [
    "# 사용자의 점수 입력받아 학점 출력하기\n",
    "while True:\n",
    "    점수 = int(input('점수를 입력하세요 :'))\n",
    "\n",
    "    if 점수 >=90:\n",
    "        print('A')\n",
    "    elif 점수 >=80:\n",
    "        print('B')\n",
    "    elif 점수 >=60:\n",
    "        print('C')\n",
    "    elif 점수 >=40:\n",
    "        print('D')\n",
    "    elif 점수 <40:\n",
    "        print('F')\n",
    "        break\n",
    " "
   ]
  },
  {
   "cell_type": "code",
   "execution_count": 4,
   "metadata": {},
   "outputs": [
    {
     "name": "stdout",
     "output_type": "stream",
     "text": [
      "2 3 5 7 11 13 17 19 23 29 31 37 41 43 "
     ]
    }
   ],
   "source": [
    "# 자연수 n 소수 모두 출력하기\n",
    "n = int(input(\"자연수 n을 입력하세요: \"))\n",
    "\n",
    "# 2부터 n까지의 수에 대해 소수 판별을 수행합니다.\n",
    "for num in range(2, n+1):\n",
    "    is_prime = True\n",
    "    \n",
    "    # 2부터 num-1까지의 수로 나누어 보며 소수인지 판별합니다.\n",
    "    for i in range(2, num):\n",
    "        if num % i == 0:\n",
    "            is_prime = False\n",
    "            break\n",
    "    \n",
    "    # 소수인 경우 출력합니다.\n",
    "    if is_prime:\n",
    "        print(num, end=\" \")"
   ]
  }
 ],
 "metadata": {
  "kernelspec": {
   "display_name": "Python 3",
   "language": "python",
   "name": "python3"
  },
  "language_info": {
   "codemirror_mode": {
    "name": "ipython",
    "version": 3
   },
   "file_extension": ".py",
   "mimetype": "text/x-python",
   "name": "python",
   "nbconvert_exporter": "python",
   "pygments_lexer": "ipython3",
   "version": "3.10.11"
  },
  "orig_nbformat": 4
 },
 "nbformat": 4,
 "nbformat_minor": 2
}
