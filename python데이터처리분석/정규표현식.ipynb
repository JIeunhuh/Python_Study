{
 "cells": [
  {
   "attachments": {},
   "cell_type": "markdown",
   "metadata": {},
   "source": [
    "# __정규표현식__\n",
    "\n",
    "- __정규표현식(Regular Expression)이란?__\n",
    "    + 문자열을 처리하는 패턴을 정의하는데 사용되는 형식언어.   \n",
    "    문자열의 검색과 치환작업에 사용\n",
    "\n"
   ]
  },
  {
   "attachments": {},
   "cell_type": "markdown",
   "metadata": {},
   "source": [
    "- __정규표현식의 구성요소__\n",
    "    + 정규표현식은 메타문자(meta character)와 리터럴(literal)로 구성되어 있음.    \n",
    "    메타문자는 특별한 의미를 가지고, 리터럴은 문자 그대로를 의미"
   ]
  },
  {
   "attachments": {},
   "cell_type": "markdown",
   "metadata": {},
   "source": [
    "#### _정규표현식 메타문자_\n",
    " __정규표현식에서 사용되는 일부 메타문자들__\n",
    "- . : 줄바꿈 문자(\\n)를 제외한 모든 문자와 매칭됩니다. \n",
    "   \n",
    "- ^ : 문자열의 시작과 매칭됩니다.  \n",
    "  \n",
    "- $ : 문자열의 끝과 매칭됩니다.\n",
    "  \n",
    "- '*' : 앞의 문자가 0번 이상 반복되는 패턴과 매칭됩니다.\n",
    "  \n",
    "- '+' : 앞의 문자가 1번 이상 반복되는 패턴과 매칭됩니다.\n",
    "  \n",
    "- ? : 앞의 문자가 0번 또는 1번 나타나는 패턴과 매칭됩니다.\n",
    "- [] : 대괄호 안에 나열된 문자 중 하나와 매칭됩니다.\n",
    "- [a-z] : 알파벳 소문자 중 하나와 매칭됩니다.\n",
    "- [A-Z] : 알파벳 대문자 중 하나와 매칭됩니다.\n",
    "- [0-9] : 숫자 중 하나와 매칭됩니다.\n",
    "- | : OR 연산자 역할을 하며, 왼쪽 또는 오른쪽 패턴 중 하나와 매칭됩니다.\n",
    "- () : 그룹핑을 위해 사용되며, 매칭 결과에 대한 그룹을 생성합니다.\n",
    "- {} : 중괄호 안에 숫자가 들어가며, 앞의 문자나 패턴이 해당 숫자만큼 나타나는 패턴과 매칭됩니다.\n",
    "- () : 그룹핑을 위해 사용되며, 매칭 결과에 대한 그룹을 생성합니다.\n",
    "- \\ : 이스케이프 문자로 사용되며, 메타문자를 문자 그대로 매칭시키기 위해 사용됩니다.\n",
    "- \\d : 숫자와 매칭됩니다.\n",
    "- \\D : 숫자가 아닌 문자와 매칭됩니다.\n",
    "- \\w : 숫자와 알파벳(대소문자), 언더스코어(_)와 매칭됩니다.\n",
    "- \\W : 숫자와 알파벳(대소문자), 언더스코어(_)가 아닌 문자와 매칭됩니다.\n",
    "- \\s : 공백 문자와 매칭됩니다.\n",
    "- \\S : 공백 문자가 아닌 문자와 매칭됩니다.\n"
   ]
  },
  {
   "attachments": {},
   "cell_type": "markdown",
   "metadata": {},
   "source": [
    "### __문자열매칭__\n",
    "  \n",
    "- re.match()  \n",
    "  \n",
    "- re.search()  "
   ]
  },
  {
   "cell_type": "code",
   "execution_count": 10,
   "metadata": {},
   "outputs": [
    {
     "name": "stdout",
     "output_type": "stream",
     "text": [
      "['2', '3']\n",
      "['-1.5']\n",
      "['12345678']\n"
     ]
    }
   ],
   "source": [
    "import re\n",
    "# findall() 예시\n",
    "# 문자열에서 정규표현식과 매칭되는 모든 패턴 찾기\n",
    "pattern = r\"[-+]\\d+.\\d+|\\d+\" # 정규 표현식 ( -,+중 하나와 매치\\하나 이상의 숫자\\.\\하나이상의 숫자 || 하나 이상의 숫자 )\n",
    "string1 = \"I have 2 apples and 3 oranges\"\n",
    "string2 = \"The temperature is -1.5 degrees Celsius\"\n",
    "string3 = \"The password is 12345678\"\n",
    "\n",
    "matches1 = re.findall(pattern, string1)\n",
    "matches2 = re.findall(pattern, string2)\n",
    "matches3 = re.findall(pattern, string3)\n",
    "\n",
    "print(matches1)  # ['2', '3']\n",
    "print(matches2)  # ['-1', '5']\n",
    "print(matches3)  # ['12345678']\n"
   ]
  },
  {
   "attachments": {},
   "cell_type": "markdown",
   "metadata": {},
   "source": [
    "### __문자열 치환__\n",
    "  \n",
    " - re.sub() : 문자열 내에서 패턴과 매칭된 부분을 다른 문자열로 치환 "
   ]
  },
  {
   "cell_type": "code",
   "execution_count": null,
   "metadata": {},
   "outputs": [],
   "source": [
    "# sub() 예시\n",
    "# 문자열에서 정규표현식과 매칭되는 모든패턴을 다른 문자열로 대체하기\n"
   ]
  },
  {
   "cell_type": "code",
   "execution_count": 12,
   "metadata": {},
   "outputs": [
    {
     "name": "stdout",
     "output_type": "stream",
     "text": [
      "010\n",
      "1234-5678\n"
     ]
    }
   ],
   "source": [
    "# 그룹핑\n",
    "# 전화번호에서 지역번호와 나머지 번호를 각각 추출\n",
    "import re\n",
    "\n",
    "phone_number = \"010-1234-5678\"\n",
    "pattern = r\"(\\d{2,3})-(\\d{4})-(\\d{4})\" # {2,3} -> 2개거나 3개거나\n",
    "result = re.match(pattern, phone_number)\n",
    "\n",
    "area_code = result.group(1)\n",
    "phone_number_without_area_code = result.group(2) + \"-\" + result.group(3)\n",
    "\n",
    "print(area_code)  # 010\n",
    "print(phone_number_without_area_code)  # 1234-5678"
   ]
  }
 ],
 "metadata": {
  "kernelspec": {
   "display_name": "Python 3",
   "language": "python",
   "name": "python3"
  },
  "language_info": {
   "codemirror_mode": {
    "name": "ipython",
    "version": 3
   },
   "file_extension": ".py",
   "mimetype": "text/x-python",
   "name": "python",
   "nbconvert_exporter": "python",
   "pygments_lexer": "ipython3",
   "version": "3.10.11"
  },
  "orig_nbformat": 4
 },
 "nbformat": 4,
 "nbformat_minor": 2
}
