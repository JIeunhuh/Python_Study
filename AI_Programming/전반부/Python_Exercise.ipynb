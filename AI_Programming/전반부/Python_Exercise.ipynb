{
 "cells": [
  {
   "cell_type": "markdown",
   "metadata": {},
   "source": [
    "#### __# Exercises 7.1__"
   ]
  },
  {
   "cell_type": "code",
   "execution_count": 20,
   "metadata": {},
   "outputs": [],
   "source": [
    "\n",
    "## 27. Fraction\n",
    "class Fraction:\n",
    "    def __init__(self,numerator,denominator):\n",
    "        self._numerator = numerator\n",
    "        self._denominator = denominator\n",
    "    \n",
    "    @staticmethod\n",
    "    def GCD(m,n):  # Greatest Common Divisor \n",
    "        while n != 0:\n",
    "            t = n\n",
    "            n = m % n\n",
    "            m = t\n",
    "        return m\n",
    "    \n",
    "    # 교수님 방법(함수 추가함)    \n",
    "    def reduce(self):\n",
    "        gcd = self.GCD(self._numerator,self._denominator)\n",
    "        return self._numerator // gcd, self._denominator // gcd\n",
    "          \n",
    "      \n"
   ]
  },
  {
   "cell_type": "code",
   "execution_count": 21,
   "metadata": {},
   "outputs": [
    {
     "ename": "TypeError",
     "evalue": "Fraction.__init__() missing 2 required positional arguments: 'numerator' and 'denominator'",
     "output_type": "error",
     "traceback": [
      "\u001b[1;31m---------------------------------------------------------------------------\u001b[0m",
      "\u001b[1;31mTypeError\u001b[0m                                 Traceback (most recent call last)",
      "Cell \u001b[1;32mIn[21], line 3\u001b[0m\n\u001b[0;32m      1\u001b[0m \u001b[39m# 28. Reduce a Fraction\u001b[39;00m\n\u001b[0;32m      2\u001b[0m \u001b[39m# 내 방법\u001b[39;00m\n\u001b[1;32m----> 3\u001b[0m f \u001b[39m=\u001b[39m Fraction()\n\u001b[0;32m      4\u001b[0m \u001b[39mdef\u001b[39;00m \u001b[39mmain\u001b[39m():\n\u001b[0;32m      5\u001b[0m     num \u001b[39m=\u001b[39m \u001b[39mint\u001b[39m(\u001b[39minput\u001b[39m(\u001b[39m'\u001b[39m\u001b[39mEnter numerator of fraction : \u001b[39m\u001b[39m'\u001b[39m))\n",
      "\u001b[1;31mTypeError\u001b[0m: Fraction.__init__() missing 2 required positional arguments: 'numerator' and 'denominator'"
     ]
    }
   ],
   "source": [
    "# 28. Reduce a Fraction\n",
    "# 내 방법\n",
    "f = Fraction() # 생성자 pass 하고 인자 넣지 않았음\n",
    "def main():\n",
    "    num = int(input('Enter numerator of fraction : '))\n",
    "    d = int(input('Enter donominator of fraction : '))\n",
    "    res = f.GCD(num,d)\n",
    "    # print(res)\n",
    "    print(num//res,'/',d//res) # -> 나는 클래스에 함수 안만들고 바로 main에서 계산 함\n",
    "    \n",
    "main()    "
   ]
  },
  {
   "cell_type": "code",
   "execution_count": 27,
   "metadata": {},
   "outputs": [
    {
     "name": "stdout",
     "output_type": "stream",
     "text": [
      "3/11\n"
     ]
    }
   ],
   "source": [
    "# 교수님 방법\n",
    "def main():\n",
    "    num = int(input('Enter numerator of fraction : '))\n",
    "    d = int(input('Enter donominator of fraction : '))\n",
    "    f = Fraction(num,d)\n",
    "    n_red, d_red = f.reduce()\n",
    "    if d_red == 1: #(분모가 1인 경우에 분자만 나오도록 함)\n",
    "        print(f'{n_red}')\n",
    "    else:\n",
    "        print(f'{n_red}/{d_red}')\n",
    "main()"
   ]
  },
  {
   "cell_type": "code",
   "execution_count": 48,
   "metadata": {},
   "outputs": [
    {
     "name": "stdout",
     "output_type": "stream",
     "text": [
      "125\n",
      "Convert to fraction : 125/19683\n"
     ]
    }
   ],
   "source": [
    "# 29. Convert a Decimal to a Fraction\n",
    "#(소수점 자릿수가 있는 실수를 기약분수로 만들기)\n",
    "def main():\n",
    "    num = input('Enter a positive decimal number less tan 1 : ')\n",
    "    count = len(num)-1\n",
    "    num = eval(num[1:])\n",
    "    # print(num)\n",
    "    # print('count',count)\n",
    "    f = Fraction(num,count**10)\n",
    "    res = f.GCD(num,10**count)\n",
    "    # print(res)\n",
    "    n_red = num // res\n",
    "    d_red = 10**count // res\n",
    "    \n",
    "    # n_red, d_red = f.reduce()\n",
    "    print(f'Convert to fraction : {n_red}/{d_red}')\n",
    "main()"
   ]
  },
  {
   "cell_type": "code",
   "execution_count": null,
   "metadata": {},
   "outputs": [],
   "source": [
    "# 교수님 방법 (plato에 올라온거 받아오깅 )\n",
    "num = input('Enter a positive decimal number less tan 1 : ')\n",
    "if num[0]=='0': # ex) 0.078~~\n",
    "    precision = len(num[2:])\n",
    "elif num[0]=='.': # ex) .453 ~~\n",
    "    precision = len(num[1:])\n",
    "else:\n",
    "    print('Enter a Correct Number plz')\n",
    "numer = float(num) * 10 **precision\n",
    "    "
   ]
  },
  {
   "cell_type": "markdown",
   "metadata": {},
   "source": [
    "#### __# Exercises 7.2__"
   ]
  },
  {
   "cell_type": "code",
   "execution_count": 50,
   "metadata": {},
   "outputs": [],
   "source": [
    "# 11. Rock, Paper, Scissors\n",
    "import random as rd\n",
    "class Contestant:\n",
    "    def __init__(self,name):\n",
    "        self._name = name\n",
    "        self._score = 0\n",
    "        \n",
    "class Human(Contestant): # 사람\n",
    "    def __init__(self,name):\n",
    "        super().__init__(name)\n",
    "    \n",
    "    \n",
    "    \n",
    "class Computer(Contestant): # 컴퓨터 : random 이용해서 \n",
    "    def __init__(self,name):\n",
    "        super().__init__(name)\n",
    "    "
   ]
  },
  {
   "cell_type": "code",
   "execution_count": 65,
   "metadata": {},
   "outputs": [
    {
     "name": "stdout",
     "output_type": "stream",
     "text": [
      "Enter correct choice!\n",
      " chooses paper\n",
      " : 1,  : 0\n",
      " chooses paper\n",
      " : 1,  : 0\n",
      " chooses rock\n",
      " : 1,  : 0\n",
      " WINS\n"
     ]
    }
   ],
   "source": [
    "# my code(좀 이상함 ;;)\n",
    "def getGameRes(choice1, choice2, h_name,com_name):\n",
    "    if choice1 == choice2:\n",
    "        return 'draw'\n",
    "    elif (choice1 == 'scissors' and choice2 == 'paper') or (choice1 == 'paper' and choice2 == 'rock') or (choice1 == 'rock' and choice2=='scissors'):\n",
    "        return h_name\n",
    "    else:\n",
    "        return com_name\n",
    "# list 만들기\n",
    "choices = ['rock','scissors','paper']    \n",
    "\n",
    "def main():\n",
    "   # human / computer 이름 입력\n",
    "    name1 = input('Enter name of human : ')\n",
    "    name2 = input('Enter name of computer')\n",
    "    cnt = 0\n",
    "    # 클래스 호출\n",
    "    human = Human(name1)\n",
    "    com = Computer(name2)\n",
    "    h = human._name\n",
    "    c = com._name\n",
    "\n",
    "    while True: \n",
    "        h_choice = input(f'{name1}, enter your choice : ')\n",
    "        if h_choice not in choices:\n",
    "            print('Enter correct choice!')\n",
    "        com_choice = rd.choice(['rock','scissors','paper'])\n",
    "        print(f'{c} chooses {com_choice}')\n",
    "        \n",
    "        winner = getGameRes(h_choice,com_choice,h,c)\n",
    "        \n",
    "        if winner == h:\n",
    "            human._score += 1\n",
    "        elif winner == c:\n",
    "            com._score += 1\n",
    "            \n",
    "        print(f'{h} : {human._score}, {c} : {com._score}')\n",
    "        \n",
    "        cnt += 1\n",
    "        if cnt == 3:\n",
    "            if human._score > com._score:\n",
    "                print(f'{h} WINS')\n",
    "            elif human._score < com._score:\n",
    "                print(f'{c} WINS')\n",
    "            else:\n",
    "                print('draw')\n",
    "            break\n",
    "main()"
   ]
  },
  {
   "cell_type": "code",
   "execution_count": null,
   "metadata": {},
   "outputs": [],
   "source": [
    "# 교수님 코드"
   ]
  }
 ],
 "metadata": {
  "kernelspec": {
   "display_name": "Python 3",
   "language": "python",
   "name": "python3"
  },
  "language_info": {
   "codemirror_mode": {
    "name": "ipython",
    "version": 3
   },
   "file_extension": ".py",
   "mimetype": "text/x-python",
   "name": "python",
   "nbconvert_exporter": "python",
   "pygments_lexer": "ipython3",
   "version": "3.10.11"
  },
  "orig_nbformat": 4
 },
 "nbformat": 4,
 "nbformat_minor": 2
}
