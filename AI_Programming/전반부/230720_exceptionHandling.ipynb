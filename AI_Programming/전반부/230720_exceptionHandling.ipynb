{
 "cells": [
  {
   "cell_type": "markdown",
   "metadata": {},
   "source": [
    "## __예외 처리__  \n",
    "  \n",
    "+ __예외(Exception)__ : 코드를 실행하는 중에 발생한 에러  \n",
    "  \n",
    "+ __예외 처리(Exception Handling)__   \n",
    " : 예외가 발생했을 때도 스크립트 실행을 중단하지 않고 계속 실행하게 함"
   ]
  },
  {
   "cell_type": "code",
   "execution_count": 10,
   "metadata": {},
   "outputs": [
    {
     "name": "stdout",
     "output_type": "stream",
     "text": [
      "Hello\n"
     ]
    },
    {
     "ename": "TypeError",
     "evalue": "descriptor '__init__' requires a 'super' object but received a 'str'",
     "output_type": "error",
     "traceback": [
      "\u001b[1;31m---------------------------------------------------------------------------\u001b[0m",
      "\u001b[1;31mTypeError\u001b[0m                                 Traceback (most recent call last)",
      "Cell \u001b[1;32mIn[10], line 12\u001b[0m\n\u001b[0;32m      9\u001b[0m     \u001b[39mexcept\u001b[39;00m JSException \u001b[39mas\u001b[39;00m e:\n\u001b[0;32m     10\u001b[0m         \u001b[39mprint\u001b[39m(e)\n\u001b[1;32m---> 12\u001b[0m main()\n",
      "Cell \u001b[1;32mIn[10], line 8\u001b[0m, in \u001b[0;36mmain\u001b[1;34m()\u001b[0m\n\u001b[0;32m      6\u001b[0m \u001b[39mtry\u001b[39;00m:\n\u001b[0;32m      7\u001b[0m     \u001b[39mprint\u001b[39m(\u001b[39m'\u001b[39m\u001b[39mHello\u001b[39m\u001b[39m'\u001b[39m)\n\u001b[1;32m----> 8\u001b[0m     \u001b[39mraise\u001b[39;00m JSException\n\u001b[0;32m      9\u001b[0m \u001b[39mexcept\u001b[39;00m JSException \u001b[39mas\u001b[39;00m e:\n\u001b[0;32m     10\u001b[0m     \u001b[39mprint\u001b[39m(e)\n",
      "Cell \u001b[1;32mIn[10], line 3\u001b[0m, in \u001b[0;36mJSException.__init__\u001b[1;34m(self)\u001b[0m\n\u001b[0;32m      2\u001b[0m \u001b[39mdef\u001b[39;00m \u001b[39m__init__\u001b[39m(\u001b[39mself\u001b[39m):\n\u001b[1;32m----> 3\u001b[0m     \u001b[39msuper\u001b[39;49m\u001b[39m.\u001b[39;49m\u001b[39m__init__\u001b[39;49m(\u001b[39m'\u001b[39;49m\u001b[39mJieun\u001b[39;49m\u001b[39m\\'\u001b[39;49;00m\u001b[39ms Exception\u001b[39;49m\u001b[39m'\u001b[39;49m)\n",
      "\u001b[1;31mTypeError\u001b[0m: descriptor '__init__' requires a 'super' object but received a 'str'"
     ]
    }
   ],
   "source": [
    "class JSException(Exception):\n",
    "    def __init__(self):\n",
    "        super.__init__('Jieun\\'s Exception')\n",
    "        \n",
    "def main():\n",
    "    try:\n",
    "        print('Hello')\n",
    "        raise JSException\n",
    "    except JSException as e:\n",
    "        print(e)\n",
    "\n",
    "main()"
   ]
  },
  {
   "cell_type": "code",
   "execution_count": 7,
   "metadata": {},
   "outputs": [
    {
     "name": "stdout",
     "output_type": "stream",
     "text": [
      "func2\n",
      "func1\n"
     ]
    },
    {
     "ename": "FileNotFoundError",
     "evalue": "",
     "output_type": "error",
     "traceback": [
      "\u001b[1;31m---------------------------------------------------------------------------\u001b[0m",
      "\u001b[1;31mFileNotFoundError\u001b[0m                         Traceback (most recent call last)",
      "Cell \u001b[1;32mIn[7], line 21\u001b[0m\n\u001b[0;32m     18\u001b[0m     \u001b[39mexcept\u001b[39;00m \u001b[39mValueError\u001b[39;00m \u001b[39mas\u001b[39;00m e:\n\u001b[0;32m     19\u001b[0m         \u001b[39mprint\u001b[39m(e)\n\u001b[1;32m---> 21\u001b[0m main()      \n",
      "Cell \u001b[1;32mIn[7], line 17\u001b[0m, in \u001b[0;36mmain\u001b[1;34m()\u001b[0m\n\u001b[0;32m     15\u001b[0m \u001b[39mdef\u001b[39;00m \u001b[39mmain\u001b[39m():\n\u001b[0;32m     16\u001b[0m     \u001b[39mtry\u001b[39;00m:\n\u001b[1;32m---> 17\u001b[0m         func2()\n\u001b[0;32m     18\u001b[0m     \u001b[39mexcept\u001b[39;00m \u001b[39mValueError\u001b[39;00m \u001b[39mas\u001b[39;00m e:\n\u001b[0;32m     19\u001b[0m         \u001b[39mprint\u001b[39m(e)\n",
      "Cell \u001b[1;32mIn[7], line 11\u001b[0m, in \u001b[0;36mfunc2\u001b[1;34m()\u001b[0m\n\u001b[0;32m      9\u001b[0m \u001b[39mtry\u001b[39;00m:\n\u001b[0;32m     10\u001b[0m     \u001b[39mprint\u001b[39m(\u001b[39m'\u001b[39m\u001b[39mfunc2\u001b[39m\u001b[39m'\u001b[39m)\n\u001b[1;32m---> 11\u001b[0m     func1()\n\u001b[0;32m     12\u001b[0m \u001b[39mexcept\u001b[39;00m \u001b[39mZeroDivisionError\u001b[39;00m \u001b[39mas\u001b[39;00m e:\n\u001b[0;32m     13\u001b[0m     \u001b[39mprint\u001b[39m(e)\n",
      "Cell \u001b[1;32mIn[7], line 4\u001b[0m, in \u001b[0;36mfunc1\u001b[1;34m()\u001b[0m\n\u001b[0;32m      2\u001b[0m \u001b[39mtry\u001b[39;00m:\n\u001b[0;32m      3\u001b[0m     \u001b[39mprint\u001b[39m(\u001b[39m'\u001b[39m\u001b[39mfunc1\u001b[39m\u001b[39m'\u001b[39m)\n\u001b[1;32m----> 4\u001b[0m     \u001b[39mraise\u001b[39;00m \u001b[39mFileNotFoundError\u001b[39;00m\n\u001b[0;32m      5\u001b[0m \u001b[39mexcept\u001b[39;00m \u001b[39mAttributeError\u001b[39;00m \u001b[39mas\u001b[39;00m e:\n\u001b[0;32m      6\u001b[0m     \u001b[39mprint\u001b[39m(e)\n",
      "\u001b[1;31mFileNotFoundError\u001b[0m: "
     ]
    }
   ],
   "source": [
    "def func1():\n",
    "    try:\n",
    "        print('func1')\n",
    "        raise FileNotFoundError # 핸들링 할 수 있는 예외처리 문구가 없기 때문에 error !\n",
    "    except AttributeError as e:\n",
    "        print(e)\n",
    "        \n",
    "def func2():\n",
    "    try:\n",
    "        print('func2')\n",
    "        func1()\n",
    "    except ZeroDivisionError as e:\n",
    "        print(e)\n",
    "        \n",
    "def main():\n",
    "    try:\n",
    "        func2()\n",
    "    except ValueError as e:\n",
    "        print(e)\n",
    "        \n",
    "main()      "
   ]
  }
 ],
 "metadata": {
  "kernelspec": {
   "display_name": "Python 3",
   "language": "python",
   "name": "python3"
  },
  "language_info": {
   "codemirror_mode": {
    "name": "ipython",
    "version": 3
   },
   "file_extension": ".py",
   "mimetype": "text/x-python",
   "name": "python",
   "nbconvert_exporter": "python",
   "pygments_lexer": "ipython3",
   "version": "3.10.11"
  },
  "orig_nbformat": 4
 },
 "nbformat": 4,
 "nbformat_minor": 2
}
