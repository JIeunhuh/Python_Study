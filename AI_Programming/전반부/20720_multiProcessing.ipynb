{
 "cells": [
  {
   "cell_type": "code",
   "execution_count": 1,
   "metadata": {},
   "outputs": [
    {
     "name": "stdout",
     "output_type": "stream",
     "text": [
      "MainProcess\n",
      "13588\n",
      "MainProcess End\n"
     ]
    }
   ],
   "source": [
    "import multiprocessing as mp\n",
    "import time\n",
    "\n",
    "def worker():\n",
    "    proc = mp.current_process()\n",
    "    print(proc.name)\n",
    "    print(proc.pid)\n",
    "    time.sleep(5)\n",
    "    print('SubProcess End')\n",
    "    \n",
    "if __name__ == '__main__':\n",
    "    # main process\n",
    "    proc = mp.current_process()\n",
    "    print(proc.name)\n",
    "    print(proc.pid)\n",
    "    \n",
    "    # process spawning\n",
    "    p = mp.Process(name='SubProcess', target=worker)\n",
    "    p.start()\n",
    "    \n",
    "    print('MainProcess End')"
   ]
  },
  {
   "cell_type": "code",
   "execution_count": 3,
   "metadata": {},
   "outputs": [],
   "source": [
    "import time\n",
    "from multiprocessing import Pool\n",
    "\n",
    "def work(x):\n",
    "    print(x)\n",
    "    \n",
    "if __name__ == '__main__':\n",
    "    pool = Pool(4)\n",
    "    data = range(1,100)\n",
    "    t0 = time.time_ns()\n",
    "    pool.map(work, data)\n",
    "    t1 = time.time_ns()\n",
    "    print(f'Time:{t1}-{t0}')"
   ]
  }
 ],
 "metadata": {
  "kernelspec": {
   "display_name": "Python 3",
   "language": "python",
   "name": "python3"
  },
  "language_info": {
   "codemirror_mode": {
    "name": "ipython",
    "version": 3
   },
   "file_extension": ".py",
   "mimetype": "text/x-python",
   "name": "python",
   "nbconvert_exporter": "python",
   "pygments_lexer": "ipython3",
   "version": "3.10.11"
  },
  "orig_nbformat": 4
 },
 "nbformat": 4,
 "nbformat_minor": 2
}
