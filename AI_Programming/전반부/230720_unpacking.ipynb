{
 "cells": [
  {
   "cell_type": "markdown",
   "metadata": {},
   "source": [
    "## __위치 인수와 리스트 언패킹__  \n",
    "  \n",
    "+ __위치 인수__  \n",
    "  : 함수에 인수를 순서대로 넣는 방식\n",
    "  ```\n",
    "  ex)\n",
    "  print(10,20,30)\n",
    "  출력 값 : 10 20 30\n",
    "  ```"
   ]
  },
  {
   "cell_type": "code",
   "execution_count": 1,
   "metadata": {},
   "outputs": [
    {
     "name": "stdout",
     "output_type": "stream",
     "text": [
      "10\n",
      "20\n",
      "30\n"
     ]
    }
   ],
   "source": [
    "# 1.1 위치 인수를 사용하는 함수를 만들고 호출하기\n",
    "def print_nums(a,b,c):\n",
    "    print(a)\n",
    "    print(b)\n",
    "    print(c)\n",
    "    \n",
    "print_nums(10,20,30)"
   ]
  },
  {
   "cell_type": "markdown",
   "metadata": {},
   "source": [
    "+ __언패킹__  \n",
    " : 인수를 순서대로 넣을때, 리스트(튜플) 앞에 *를 붙이면 언패킹(unpacking)이 됨\n",
    " ```\n",
    " ex)\n",
    " x = [10,20,30]\n",
    " print_nums(*x) -> paremeter 앞에 '*' 붙이면 언패킹 됨\n",
    " 출력 값 = \n",
    "            10\n",
    "            20\n",
    "            30\n",
    "\n",
    "cf)  리스트 변수 대신 리스트 앞에 바로 *를 넣어도 동작은 같음 !\n",
    "print_nums(*[10,20,30]) -> 출력값 똑같음\n",
    " ```"
   ]
  },
  {
   "cell_type": "code",
   "execution_count": 5,
   "metadata": {},
   "outputs": [
    {
     "name": "stdout",
     "output_type": "stream",
     "text": [
      "(10, 20, 30)\n"
     ]
    }
   ],
   "source": [
    "def print_num(*args):\n",
    "    print(args)\n",
    "    \n",
    "print_num(10,20,30) # tuple로 출력된다"
   ]
  },
  {
   "cell_type": "code",
   "execution_count": 4,
   "metadata": {},
   "outputs": [
    {
     "name": "stdout",
     "output_type": "stream",
     "text": [
      "1\n",
      "(10, 20, 40, 50)\n"
     ]
    }
   ],
   "source": [
    "def print_numbers(a,*args):\n",
    "    print(a)\n",
    "    print(args)\n",
    "    \n",
    "print_numbers(*[1,10,20,40,50])"
   ]
  }
 ],
 "metadata": {
  "kernelspec": {
   "display_name": "Python 3",
   "language": "python",
   "name": "python3"
  },
  "language_info": {
   "codemirror_mode": {
    "name": "ipython",
    "version": 3
   },
   "file_extension": ".py",
   "mimetype": "text/x-python",
   "name": "python",
   "nbconvert_exporter": "python",
   "pygments_lexer": "ipython3",
   "version": "3.10.11"
  },
  "orig_nbformat": 4
 },
 "nbformat": 4,
 "nbformat_minor": 2
}
