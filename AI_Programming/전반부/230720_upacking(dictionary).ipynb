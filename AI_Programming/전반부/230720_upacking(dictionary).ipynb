{
 "cells": [
  {
   "cell_type": "markdown",
   "metadata": {},
   "source": [
    "## __키워드 인수 사용하기__  \n",
    "  \n",
    "  "
   ]
  },
  {
   "cell_type": "code",
   "execution_count": 1,
   "metadata": {},
   "outputs": [
    {
     "name": "stdout",
     "output_type": "stream",
     "text": [
      "이름 홍길동\n",
      "나이 30\n",
      "주소 서울시 용산동\n"
     ]
    }
   ],
   "source": [
    "def personal_info(name,age,address):\n",
    "    print('이름',name)\n",
    "    print('나이',age)\n",
    "    print('주소',address)\n",
    "    \n",
    "# parameter의 순서와 용도를 제대로 구분해서 값을 넣어야 함    \n",
    "personal_info('홍길동',30,'서울시 용산동')"
   ]
  },
  {
   "cell_type": "markdown",
   "metadata": {},
   "source": [
    "+ __키워드 인수__  \n",
    " : 인수에 이름(키워드)를 붙이는 기능\n",
    " ```\n",
    " 함수(키워드=값)\n",
    " ```"
   ]
  },
  {
   "cell_type": "code",
   "execution_count": 2,
   "metadata": {},
   "outputs": [
    {
     "name": "stdout",
     "output_type": "stream",
     "text": [
      "이름 홍길동\n",
      "나이 30\n",
      "주소 서울시 용산구\n"
     ]
    }
   ],
   "source": [
    "# 키워드 인수를 사용하면 순서를 지키지 않아도 됨\n",
    "personal_info(age=30,address='서울시 용산구',name='홍길동')"
   ]
  },
  {
   "cell_type": "markdown",
   "metadata": {},
   "source": [
    "### __Keyword arguments and Dictionay Unpacking__ \n",
    "  \n",
    "  + __Dictionary Unpacking__  \n",
    "   : func(**dictionary)\n",
    "\n",
    "```\n",
    "ex) \n",
    " # 함수 정의\n",
    "def personal_info(name,age,address):\n",
    "    print('이름',name)\n",
    "    print('나이',age)\n",
    "    print('주소',address)\n",
    " \n",
    " # dictionary x\n",
    " x = {'name':'홍길동', 'age':30, 'address':'서울시 용산구'}\n",
    "\n",
    " personal_info(**x) -> 하면 위에랑 똑같은 값 출력됨\n",
    "\n",
    " cf) 딕셔너리 변수 대신 딕셔너리 앞에 바로 ** 붙여도 결과 똑같음 (list/tuple은 '*', dictionary는 '**'!!)\n",
    "\n",
    "```\n",
    "\n",
    "  + __Dictionary에 '**' 두 번 쓰는 이유__  \n",
    "   : 딕셔너리는 키-값 쌍으로 저장되기 때문에 '*'를 한번 사용해서 호출하면 key 값이 나옴  \n",
    "     value값을 받기 위해서 '**' 두번 사용\n"
   ]
  },
  {
   "cell_type": "markdown",
   "metadata": {},
   "source": []
  }
 ],
 "metadata": {
  "kernelspec": {
   "display_name": "Python 3",
   "language": "python",
   "name": "python3"
  },
  "language_info": {
   "codemirror_mode": {
    "name": "ipython",
    "version": 3
   },
   "file_extension": ".py",
   "mimetype": "text/x-python",
   "name": "python",
   "nbconvert_exporter": "python",
   "pygments_lexer": "ipython3",
   "version": "3.10.11"
  },
  "orig_nbformat": 4
 },
 "nbformat": 4,
 "nbformat_minor": 2
}
