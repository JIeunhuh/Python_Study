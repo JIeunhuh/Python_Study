{
 "cells": [
  {
   "cell_type": "markdown",
   "metadata": {},
   "source": [
    "## __06 Miescellneous Topics__  \n",
    "  \n",
    "\n",
    "###  __Exception Handling__\n",
    "  \n"
   ]
  },
  {
   "cell_type": "code",
   "execution_count": 3,
   "metadata": {},
   "outputs": [
    {
     "name": "stdout",
     "output_type": "stream",
     "text": [
      "Error!!\n",
      "invalid literal for int() with base 10: 'jieun'\n"
     ]
    }
   ],
   "source": [
    "try:\n",
    "    num = int(input('Enter a number: '))\n",
    "    print('Entered number : {}'.format(num))\n",
    "except ValueError as exp:\n",
    "    print('Error!!')\n",
    "    print(exp)"
   ]
  },
  {
   "cell_type": "code",
   "execution_count": 12,
   "metadata": {},
   "outputs": [
    {
     "name": "stdout",
     "output_type": "stream",
     "text": [
      "[Errno 2] No such file or directory: 'num.txt'\n"
     ]
    }
   ],
   "source": [
    "def main():\n",
    "    try:\n",
    "        fileName = input('Enter the name of a file : ')\n",
    "        infile = open(fileName,'r')\n",
    "        num = float(infile.readline())\n",
    "        print(1/num)\n",
    "    except FileNotFoundError as exc1:\n",
    "        print(exc1)\n",
    "    except ValueError as exc2:\n",
    "        print(exc2)\n",
    "    except ZeroDivisionError as exc3:\n",
    "        print(exc3)\n",
    "        \n",
    "main()"
   ]
  },
  {
   "cell_type": "markdown",
   "metadata": {},
   "source": [
    "#### __The _else_ and _finally_ Statement__  \n",
    "  \n",
    "\n",
    "+ try문은 single _else_ 문을 포함할 수 있음  \n",
    "exception이 일어나지 않으면 _else_ 문 실행  \n",
    "+ _finally_ 문은 가장 끝에(반드시 실행됨)  \n",
    "+ try문은 _except_ 와 _finally_ 문 둘 중 하나를 반드시 포함?해야 함\n",
    "\n"
   ]
  },
  {
   "cell_type": "code",
   "execution_count": 13,
   "metadata": {},
   "outputs": [
    {
     "name": "stdout",
     "output_type": "stream",
     "text": [
      "Line 1 could not be converted to a float\n",
      "No average can be calculated\n"
     ]
    }
   ],
   "source": [
    "def main():\n",
    "    total = 0\n",
    "    count = 0\n",
    "    foundFlag = True\n",
    "    try:\n",
    "        infile = open('Numbers.txt','r')\n",
    "    except FileNotFoundError:\n",
    "        print('File not found.')\n",
    "        foundFlag = False\n",
    "    if foundFlag:\n",
    "        try:\n",
    "            for line in infile:\n",
    "                count +=1\n",
    "                total += float(line)\n",
    "                print('average', total/count)\n",
    "        except ValueError:\n",
    "            print('Line',count,'could not be converted to a float')\n",
    "            if count >1:\n",
    "                print('Average so far',total/(count-1))\n",
    "            else:\n",
    "                print('No average can be calculated')\n",
    "        except ZeroDivisionError:\n",
    "            print('File was empty')\n",
    "        else:\n",
    "            print('Total :',total)\n",
    "        finally:\n",
    "            infile.close()\n",
    "            \n",
    "main()"
   ]
  },
  {
   "cell_type": "markdown",
   "metadata": {},
   "source": [
    "### __Selecting Random Values__  \n"
   ]
  },
  {
   "cell_type": "code",
   "execution_count": 22,
   "metadata": {},
   "outputs": [
    {
     "name": "stdout",
     "output_type": "stream",
     "text": [
      "Plum : 0 (0.0)\n",
      "Orange : 0 (0.0)\n",
      "Cherries : 0 (0.0)\n",
      "Melon : 0 (0.0)\n",
      "Bell : 0 (0.0)\n",
      "Bar : 0 (0.0)\n"
     ]
    }
   ],
   "source": [
    "import random as rd\n",
    "\n",
    "def main():\n",
    "    # for i in range(3):\n",
    "    #     outcome = spinWheel()\n",
    "    #     print(outcome, end=\"    \")\n",
    "    \n",
    "    num = 100\n",
    "    dict_cnt={}\n",
    "    for _ in range(num):\n",
    "        outcome = spinWheel()\n",
    "        dict_cnt[outcome] = dict_cnt.get(outcome,0)\n",
    "        \n",
    "    for k,v in dict_cnt.items():\n",
    "        print('{} : {} ({})'.format(k, v, v/num))\n",
    "        \n",
    "def spinWheel():\n",
    "    n = rd.randint(1,20)\n",
    "    if n>15:\n",
    "        return 'Cherries'\n",
    "    elif n>10:\n",
    "        return 'Orange'\n",
    "    elif n>5:\n",
    "        return 'Plum'\n",
    "    elif n>2:\n",
    "        return 'Melon'\n",
    "    elif n>1:\n",
    "        return 'Bell'\n",
    "    else:\n",
    "        return 'Bar'\n",
    "\n",
    "main()"
   ]
  },
  {
   "cell_type": "code",
   "execution_count": null,
   "metadata": {},
   "outputs": [],
   "source": []
  }
 ],
 "metadata": {
  "kernelspec": {
   "display_name": "Python 3",
   "language": "python",
   "name": "python3"
  },
  "language_info": {
   "codemirror_mode": {
    "name": "ipython",
    "version": 3
   },
   "file_extension": ".py",
   "mimetype": "text/x-python",
   "name": "python",
   "nbconvert_exporter": "python",
   "pygments_lexer": "ipython3",
   "version": "3.10.11"
  },
  "orig_nbformat": 4
 },
 "nbformat": 4,
 "nbformat_minor": 2
}
