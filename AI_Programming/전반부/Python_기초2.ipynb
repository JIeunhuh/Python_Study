{
 "cells": [
  {
   "cell_type": "markdown",
   "metadata": {},
   "source": [
    "## __06 Miescellneous Topics__  \n",
    "  \n",
    "\n",
    "###  __Exception Handling__\n",
    "  \n"
   ]
  },
  {
   "cell_type": "code",
   "execution_count": 3,
   "metadata": {},
   "outputs": [
    {
     "name": "stdout",
     "output_type": "stream",
     "text": [
      "Error!!\n",
      "invalid literal for int() with base 10: 'jieun'\n"
     ]
    }
   ],
   "source": [
    "try:\n",
    "    num = int(input('Enter a number: '))\n",
    "    print('Entered number : {}'.format(num))\n",
    "except ValueError as exp:\n",
    "    print('Error!!')\n",
    "    print(exp)"
   ]
  },
  {
   "cell_type": "code",
   "execution_count": 12,
   "metadata": {},
   "outputs": [
    {
     "name": "stdout",
     "output_type": "stream",
     "text": [
      "[Errno 2] No such file or directory: 'num.txt'\n"
     ]
    }
   ],
   "source": [
    "def main():\n",
    "    try:\n",
    "        fileName = input('Enter the name of a file : ')\n",
    "        infile = open(fileName,'r')\n",
    "        num = float(infile.readline())\n",
    "        print(1/num)\n",
    "    except FileNotFoundError as exc1:\n",
    "        print(exc1)\n",
    "    except ValueError as exc2:\n",
    "        print(exc2)\n",
    "    except ZeroDivisionError as exc3:\n",
    "        print(exc3)\n",
    "        \n",
    "main()"
   ]
  },
  {
   "cell_type": "markdown",
   "metadata": {},
   "source": [
    "#### __The _else_ and _finally_ Statement__  \n",
    "  \n",
    "\n",
    "+ try문은 single _else_ 문을 포함할 수 있음  \n",
    "exception이 일어나지 않으면 _else_ 문 실행  \n",
    "+ _finally_ 문은 가장 끝에(반드시 실행됨)  \n",
    "+ try문은 _except_ 와 _finally_ 문 둘 중 하나를 반드시 포함?해야 함\n",
    "\n"
   ]
  },
  {
   "cell_type": "code",
   "execution_count": 13,
   "metadata": {},
   "outputs": [
    {
     "name": "stdout",
     "output_type": "stream",
     "text": [
      "Line 1 could not be converted to a float\n",
      "No average can be calculated\n"
     ]
    }
   ],
   "source": [
    "def main():\n",
    "    total = 0\n",
    "    count = 0\n",
    "    foundFlag = True\n",
    "    try:\n",
    "        infile = open('Numbers.txt','r')\n",
    "    except FileNotFoundError:\n",
    "        print('File not found.')\n",
    "        foundFlag = False\n",
    "    if foundFlag:\n",
    "        try:\n",
    "            for line in infile:\n",
    "                count +=1\n",
    "                total += float(line)\n",
    "                print('average', total/count)\n",
    "        except ValueError:\n",
    "            print('Line',count,'could not be converted to a float')\n",
    "            if count >1:\n",
    "                print('Average so far',total/(count-1))\n",
    "            else:\n",
    "                print('No average can be calculated')\n",
    "        except ZeroDivisionError:\n",
    "            print('File was empty')\n",
    "        else:\n",
    "            print('Total :',total)\n",
    "        finally:\n",
    "            infile.close()\n",
    "            \n",
    "main()"
   ]
  },
  {
   "cell_type": "markdown",
   "metadata": {},
   "source": [
    "### __Selecting Random Values__  \n"
   ]
  },
  {
   "cell_type": "code",
   "execution_count": 22,
   "metadata": {},
   "outputs": [
    {
     "name": "stdout",
     "output_type": "stream",
     "text": [
      "Plum : 0 (0.0)\n",
      "Orange : 0 (0.0)\n",
      "Cherries : 0 (0.0)\n",
      "Melon : 0 (0.0)\n",
      "Bell : 0 (0.0)\n",
      "Bar : 0 (0.0)\n"
     ]
    }
   ],
   "source": [
    "import random as rd\n",
    "\n",
    "def main():\n",
    "    # for i in range(3):\n",
    "    #     outcome = spinWheel()\n",
    "    #     print(outcome, end=\"    \")\n",
    "    \n",
    "    num = 100\n",
    "    dict_cnt={}\n",
    "    for _ in range(num):\n",
    "        outcome = spinWheel()\n",
    "        dict_cnt[outcome] = dict_cnt.get(outcome,0)\n",
    "        \n",
    "    for k,v in dict_cnt.items():\n",
    "        print('{} : {} ({})'.format(k, v, v/num))\n",
    "        \n",
    "def spinWheel():\n",
    "    n = rd.randint(1,20)\n",
    "    if n>15:\n",
    "        return 'Cherries'\n",
    "    elif n>10:\n",
    "        return 'Orange'\n",
    "    elif n>5:\n",
    "        return 'Plum'\n",
    "    elif n>2:\n",
    "        return 'Melon'\n",
    "    elif n>1:\n",
    "        return 'Bell'\n",
    "    else:\n",
    "        return 'Bar'\n",
    "\n",
    "main()"
   ]
  },
  {
   "cell_type": "markdown",
   "metadata": {},
   "source": [
    "### __Exerciese__  \n"
   ]
  },
  {
   "cell_type": "code",
   "execution_count": 6,
   "metadata": {},
   "outputs": [
    {
     "name": "stdout",
     "output_type": "stream",
     "text": [
      "['T', 'm', 'q']\n"
     ]
    }
   ],
   "source": [
    "## 6.2\n",
    "\n",
    "# 9. Alphabet\n",
    "##(문자열 가져오기 위해서)\n",
    "import string\n",
    "import random as rd\n",
    "\n",
    "## 문자 범위 정하기(알파벳 대소문자)\n",
    "letter = string.ascii_letters\n",
    "\n",
    "## 3글자를 랜덤으로 골라옴\n",
    "alphabet =  rd.sample(letter,3)\n",
    "\n",
    "print(alphabet)"
   ]
  },
  {
   "cell_type": "code",
   "execution_count": 15,
   "metadata": {},
   "outputs": [
    {
     "name": "stdout",
     "output_type": "stream",
     "text": [
      "Count of Head 43\n"
     ]
    }
   ],
   "source": [
    "# 13. Coin\n",
    "import random as rd\n",
    "## 동전 백번 던져서 나오는 앞면의 갯수?\n",
    "## 내 방법\n",
    "# i = 1\n",
    "# count = 0\n",
    "# while i<=100:\n",
    "#     coin = rd.randrange(0,2)\n",
    "#     if coin==1:\n",
    "#         count += 1 \n",
    "#     i += 1\n",
    "    \n",
    "## 교수님 방법\n",
    "count = 0\n",
    "# .choice() / .choices() 구분하깅 !\n",
    "for _ in range(100):\n",
    "    coin = rd.choice(['H','B'])\n",
    "    if coin == 'H':\n",
    "        count+=1\n",
    "print('Count of Head', count)\n",
    "\n",
    "## _ : 언더바는 그냥 쓰면 error 뜨는데 앞서 계산값이 있으면 마지막으로 계산된 값을 '_'에 저장함 !"
   ]
  },
  {
   "cell_type": "markdown",
   "metadata": {},
   "source": [
    "### __Swapping__  \n",
    "  \n",
    "\n",
    "+ 변수를 따로 정의 안하고 한번에 정의 가능?\n",
    "```\n",
    "ex) 다른 언어\n",
    "temp = x\n",
    "x = y\n",
    "t = temp\n",
    "\n",
    "-- python --\n",
    "x, y = y, x 로 가능 !\n",
    "```"
   ]
  },
  {
   "cell_type": "markdown",
   "metadata": {},
   "source": [
    "### __Recursion__  \n",
    "\n",
    "+ 재귀함수    \n",
    "```\n",
    "def power(r,n):\n",
    "    if n==1:\n",
    "        return r\n",
    "    else:\n",
    "        return r * power(r, n-1)\n",
    "\n",
    "Error !\n",
    "def power(r,n):\n",
    "    return power(r,n-1) -> 무한 반복\n",
    "```"
   ]
  },
  {
   "cell_type": "code",
   "execution_count": 3,
   "metadata": {},
   "outputs": [
    {
     "data": {
      "text/plain": [
       "False"
      ]
     },
     "execution_count": 3,
     "metadata": {},
     "output_type": "execute_result"
    }
   ],
   "source": [
    "## Exercise 6.4\n",
    "# 7. Alphabetical Order\n",
    "# 재귀로 바꾸기\n",
    "def isAlpha(L):\n",
    "    for i in range(len(L)-1):\n",
    "        if L[i] > L[i+1]:\n",
    "            return False\n",
    "        return True\n",
    "list = ['banana','apple','kiwi']\n",
    "isAlpha(list)"
   ]
  },
  {
   "cell_type": "code",
   "execution_count": 7,
   "metadata": {},
   "outputs": [
    {
     "name": "stdout",
     "output_type": "stream",
     "text": [
      "True\n",
      "False\n"
     ]
    }
   ],
   "source": [
    "# recur ver.\n",
    "def isAlphaRecur(L):\n",
    "   if len(L) <= 1:\n",
    "       return True\n",
    "   \n",
    "   elif L[0] <= L[1]:\n",
    "       return isAlphaRecur(L[1:])\n",
    "   else:\n",
    "       return False\n",
    "   \n",
    "list = ['apple' , 'banana','carrot']\n",
    "list2 = ['zebra','zero','alpha']\n",
    "\n",
    "print(isAlphaRecur(list))\n",
    "print(isAlphaRecur(list2))\n",
    "        "
   ]
  },
  {
   "cell_type": "code",
   "execution_count": 1,
   "metadata": {},
   "outputs": [
    {
     "name": "stdout",
     "output_type": "stream",
     "text": [
      "15\n",
      "16\n",
      "17\n",
      "18\n",
      "19\n",
      "20\n"
     ]
    }
   ],
   "source": [
    "# 8. Sequence of Numbers\n",
    "# 재귀로 바꾸기\n",
    "def displaySequenceOfNumbers(m,n):\n",
    "    while m <= n:\n",
    "        print(m)\n",
    "        m = m+1\n",
    "# m = 15\n",
    "# n = 20\n",
    "# displaySequenceOfNumbers(m,n)"
   ]
  },
  {
   "cell_type": "code",
   "execution_count": 14,
   "metadata": {},
   "outputs": [],
   "source": [
    "# recur ver.\n",
    "def displaySequenceOfNumbersRecur(m,n):\n",
    "    if m==n:\n",
    "        print(m)\n",
    "    elif m<=n:\n",
    "        print(m)\n",
    "        displaySequenceOfNumbersRecur(m+1,n)\n",
    "        \n",
    "m = 15\n",
    "n = 20\n",
    "displaySequenceOfNumbersRecur(m,n)\n",
    "            "
   ]
  }
 ],
 "metadata": {
  "kernelspec": {
   "display_name": "Python 3",
   "language": "python",
   "name": "python3"
  },
  "language_info": {
   "codemirror_mode": {
    "name": "ipython",
    "version": 3
   },
   "file_extension": ".py",
   "mimetype": "text/x-python",
   "name": "python",
   "nbconvert_exporter": "python",
   "pygments_lexer": "ipython3",
   "version": "3.10.11"
  },
  "orig_nbformat": 4
 },
 "nbformat": 4,
 "nbformat_minor": 2
}
