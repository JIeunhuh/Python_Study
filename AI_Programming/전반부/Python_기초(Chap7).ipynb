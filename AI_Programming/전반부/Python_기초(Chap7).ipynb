{
 "cells": [
  {
   "cell_type": "markdown",
   "metadata": {},
   "source": [
    "## __7. Object-Oriented Programming__  \n",
    "  \n",
    "### __Classes and Objects__  \n",
    "  \n",
    "+ __Object consists of two things:__  \n",
    "  _허가되지 않은 접근이 불가능함_  \n",
    "  \n",
    "  _"
   ]
  },
  {
   "cell_type": "markdown",
   "metadata": {},
   "source": [
    "#### __User-Defined Classes__  \n",
    "  \n"
   ]
  },
  {
   "cell_type": "code",
   "execution_count": 7,
   "metadata": {},
   "outputs": [],
   "source": [
    "class Rectangle:\n",
    "    def __init__(self):\n",
    "        self.__width = 1\n",
    "        self.__height = 1\n",
    "        self.__secret = '나는 아이언맨' # -> self.__변수 명 : '__' 언더바 두개 붙이면 private의 역할을 함\n",
    "\n",
    "    def setWidth(self,width):\n",
    "        self.__width = width\n",
    "    \n",
    "    def setWidth(self,height):\n",
    "        self.__height = height\n",
    "        \n",
    "    def getWidth(self):\n",
    "        return self.__width\n",
    "    \n",
    "    def getHeight(self):\n",
    "        return self.__height\n",
    "    \n",
    "        "
   ]
  },
  {
   "cell_type": "code",
   "execution_count": 8,
   "metadata": {},
   "outputs": [
    {
     "data": {
      "text/plain": [
       "10"
      ]
     },
     "execution_count": 8,
     "metadata": {},
     "output_type": "execute_result"
    }
   ],
   "source": [
    "rec = Rectangle()\n",
    "rec.setWidth(10)\n",
    "rec.getHeight()"
   ]
  },
  {
   "cell_type": "markdown",
   "metadata": {},
   "source": [
    "### __Inheritance__  \n",
    "  \n",
    "+ Inheritance(상속) : superclass, parent class, base class에서 method나 변수를 받아옴  \n",
    "+ 새로운 클래스는  sub class, child class, derived class라고 불림  \n",
    "+ 자식 클래스에서 부모 클래스의 method를 _재정의_ 할수 있음(덮어쓰기)\n",
    "```\n",
    "자식클래스를 만들때, 클래스에 상속할 부모클래스를 넣어줌  \n",
    "\n",
    "ex)\n",
    "class Parent:\n",
    " def__init__(self):\n",
    "    self.__ ...\n",
    " ...\n",
    "\n",
    "class Child(Parent):\n",
    " ...\n",
    "```\n",
    "+ cf) global 변수와 class 변수  \n",
    "   + class 변수는 한 클래스 안에서만 변수가 적용됨  \n",
    "   + global 변수는 전체 프로그램 안에서 변수 적용  \n",
    "   (student, HUMAN 파일 참조)"
   ]
  },
  {
   "cell_type": "code",
   "execution_count": 21,
   "metadata": {},
   "outputs": [
    {
     "name": "stdout",
     "output_type": "stream",
     "text": [
      "Park\tD\n",
      "Lee\tPass\n"
     ]
    },
    {
     "ename": "AttributeError",
     "evalue": "'LGstudent' object has no attribute 'SECRETNUMBER'",
     "output_type": "error",
     "traceback": [
      "\u001b[1;31m---------------------------------------------------------------------------\u001b[0m",
      "\u001b[1;31mAttributeError\u001b[0m                            Traceback (most recent call last)",
      "Cell \u001b[1;32mIn[21], line 9\u001b[0m\n\u001b[0;32m      7\u001b[0m \u001b[39mprint\u001b[39m(lgstu)\n\u001b[0;32m      8\u001b[0m \u001b[39mprint\u001b[39m(pfstu)\n\u001b[1;32m----> 9\u001b[0m \u001b[39mprint\u001b[39m(lgstu\u001b[39m.\u001b[39;49mSECRETNUMBER)\n",
      "\u001b[1;31mAttributeError\u001b[0m: 'LGstudent' object has no attribute 'SECRETNUMBER'"
     ]
    }
   ],
   "source": [
    "import student\n",
    "# stu 실행안되는 이유 ; 추상메서드가 있음 -> 자식클래스에서 구현해야 함\n",
    "#stu = student.Student('Kim',80,90)\n",
    "lgstu = student.LGstudent('Park',50,80)\n",
    "pfstu = student.PFstudent(\"Lee\",40,90)\n",
    "#print(stu)\n",
    "print(lgstu)\n",
    "print(pfstu)\n",
    "# print(lgstu.SECRETNUMBER)"
   ]
  },
  {
   "cell_type": "markdown",
   "metadata": {},
   "source": [
    "### __The _isinstance_ Function__  \n",
    "  \n",
    "+ java에 instanceof랑 같은 기능인듯 ? 해당 객체가 어떤 datatype인지 확인하는? 것"
   ]
  },
  {
   "cell_type": "code",
   "execution_count": 22,
   "metadata": {},
   "outputs": [
    {
     "data": {
      "text/plain": [
       "True"
      ]
     },
     "execution_count": 22,
     "metadata": {},
     "output_type": "execute_result"
    }
   ],
   "source": [
    "isinstance(lgstu, student.LGstudent)"
   ]
  },
  {
   "cell_type": "markdown",
   "metadata": {},
   "source": [
    "### __Adding New Instance Variables to a Subclass__  \n",
    "### __(자식클래스에 새로운 인스턴스(변수)생성하기)__  "
   ]
  },
  {
   "cell_type": "code",
   "execution_count": 2,
   "metadata": {},
   "outputs": [
    {
     "name": "stdout",
     "output_type": "stream",
     "text": [
      "I am a parent.\n",
      "I am a parent.\n",
      "I am a children.\n"
     ]
    }
   ],
   "source": [
    "class Parent:\n",
    "    def __init__(self):\n",
    "        self._parent = 'I am a parent.'\n",
    "        \n",
    "class Child(Parent):\n",
    "    def __init__(self):\n",
    "        super().__init__()\n",
    "        self._children = 'I am a children.'\n",
    "        \n",
    "p = Parent()\n",
    "c = Child()\n",
    "print(p._parent)\n",
    "print(c._parent)\n",
    "print(c._children)"
   ]
  },
  {
   "cell_type": "markdown",
   "metadata": {},
   "source": [
    "#### __Method Overriding__"
   ]
  },
  {
   "cell_type": "code",
   "execution_count": 4,
   "metadata": {},
   "outputs": [
    {
     "name": "stdout",
     "output_type": "stream",
     "text": [
      "parent\n",
      "I am a parent.\n",
      "child\n"
     ]
    }
   ],
   "source": [
    "class Parent:\n",
    "    def __init__(self):\n",
    "        self._parent = 'I am a parent.'\n",
    "        self._temp = 'parent'\n",
    "        \n",
    "class Child(Parent):\n",
    "    def __init__(self):\n",
    "        super().__init__()\n",
    "        self._children = 'I am a children.'\n",
    "        self._temp = 'child' # -> 자식클래스에서 함수 재정의\n",
    "        \n",
    "p = Parent()\n",
    "c = Child()\n",
    "print(p._temp)\n",
    "print(c._parent)\n",
    "print(c._temp)"
   ]
  },
  {
   "cell_type": "markdown",
   "metadata": {},
   "source": []
  }
 ],
 "metadata": {
  "kernelspec": {
   "display_name": "Python 3",
   "language": "python",
   "name": "python3"
  },
  "language_info": {
   "codemirror_mode": {
    "name": "ipython",
    "version": 3
   },
   "file_extension": ".py",
   "mimetype": "text/x-python",
   "name": "python",
   "nbconvert_exporter": "python",
   "pygments_lexer": "ipython3",
   "version": "3.10.11"
  },
  "orig_nbformat": 4
 },
 "nbformat": 4,
 "nbformat_minor": 2
}
