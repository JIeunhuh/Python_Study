{
 "cells": [
  {
   "cell_type": "code",
   "execution_count": 7,
   "metadata": {},
   "outputs": [
    {
     "name": "stdout",
     "output_type": "stream",
     "text": [
      "Number of bounces : 13\n",
      "Meters traveled : 44.82\n"
     ]
    }
   ],
   "source": [
    "# Exercise 3.3\n",
    "coeff = float(input('Enter confficient of restitution : '))\n",
    "height = float(input('Enter intial height in meters : '))\n",
    "# 공이 튀긴 전체거리의 합\n",
    "# 초기값\n",
    "distance = height\n",
    "num = 1\n",
    "\n",
    "while height * coeff>0.1:\n",
    "    height *= coeff # 튀어오를 높이\n",
    "    distance += height * 2.0 # 올라갔다 내려옴\n",
    "    num += 1 # 튕긴 횟수 1 증가\n",
    "    \n",
    "print(f'Number of bounces : {num}')\n",
    "print('Meters traveled : {:.2f}'.format(distance))"
   ]
  },
  {
   "cell_type": "code",
   "execution_count": 10,
   "metadata": {},
   "outputs": [
    {
     "name": "stdout",
     "output_type": "stream",
     "text": [
      "The sum of the digits in the numbers from 1 to one million is 27000001\n"
     ]
    }
   ],
   "source": [
    "# 1부터 백만까지 각 자릿수 더한 합 구하기\n",
    "def total_sum(i):\n",
    "    digit_sum = 0\n",
    "    while i>0:\n",
    "        digit_sum += i % 10\n",
    "        i //= 10\n",
    "    return digit_sum\n",
    "# for문 안에 넣어줘서 sum=0으로 자꾸 초기화 됨 몽총..\n",
    "sum = 0\n",
    "for i in range(1,1000001):\n",
    "    sum += total_sum(i)\n",
    "\n",
    "print(f'The sum of the digits in the numbers from 1 to one million is {sum}')"
   ]
  },
  {
   "cell_type": "code",
   "execution_count": 2,
   "metadata": {},
   "outputs": [
    {
     "name": "stdout",
     "output_type": "stream",
     "text": [
      "The word in Pig Latin is appleway\n"
     ]
    }
   ],
   "source": [
    "# Exercise 3.2\n",
    "word = input('Enter word to translate : ')\n",
    "if word[0] in 'aeiouAEIOU':\n",
    "    res = word + 'way'\n",
    "else:\n",
    "    idx = 0\n",
    "    for i in range(len(word)):\n",
    "        if word[i] in 'aeiouAEIOU':\n",
    "            res = word[i:] + word[:i] +'ay'\n",
    "print(f'The word in Pig Latin is {res}')\n",
    "        "
   ]
  }
 ],
 "metadata": {
  "kernelspec": {
   "display_name": "Python 3",
   "language": "python",
   "name": "python3"
  },
  "language_info": {
   "codemirror_mode": {
    "name": "ipython",
    "version": 3
   },
   "file_extension": ".py",
   "mimetype": "text/x-python",
   "name": "python",
   "nbconvert_exporter": "python",
   "pygments_lexer": "ipython3",
   "version": "3.10.11"
  },
  "orig_nbformat": 4
 },
 "nbformat": 4,
 "nbformat_minor": 2
}
