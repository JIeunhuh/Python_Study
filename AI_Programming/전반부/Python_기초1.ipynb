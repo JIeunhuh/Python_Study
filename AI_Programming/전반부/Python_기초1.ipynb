{
 "cells": [
  {
   "cell_type": "code",
   "execution_count": 7,
   "metadata": {},
   "outputs": [
    {
     "name": "stdout",
     "output_type": "stream",
     "text": [
      "Number of bounces : 13\n",
      "Meters traveled : 44.82\n"
     ]
    }
   ],
   "source": [
    "# Exercise 3.3\n",
    "coeff = float(input('Enter confficient of restitution : '))\n",
    "height = float(input('Enter intial height in meters : '))\n",
    "# 공이 튀긴 전체거리의 합\n",
    "# 초기값\n",
    "distance = height\n",
    "num = 1\n",
    "\n",
    "while height * coeff>0.1:\n",
    "    height *= coeff # 튀어오를 높이\n",
    "    distance += height * 2.0 # 올라갔다 내려옴\n",
    "    num += 1 # 튕긴 횟수 1 증가\n",
    "    \n",
    "print(f'Number of bounces : {num}')\n",
    "print('Meters traveled : {:.2f}'.format(distance))"
   ]
  },
  {
   "cell_type": "code",
   "execution_count": 12,
   "metadata": {},
   "outputs": [
    {
     "name": "stdout",
     "output_type": "stream",
     "text": [
      "The sum of the digits in the numbers from 1 to one million is 27000001\n"
     ]
    }
   ],
   "source": [
    "# 1부터 백만까지 각 자릿수 더한 합 구하기\n",
    "def total_sum(i):\n",
    "    digit_sum = 0\n",
    "    while i>0:\n",
    "        digit_sum += i % 10\n",
    "        i //= 10 # //정수 / 실수\n",
    "    return digit_sum\n",
    "# for문 안에 넣어줘서 sum=0으로 자꾸 초기화 됨 몽총..\n",
    "sum = 0\n",
    "for i in range(1,1000001):\n",
    "    sum += total_sum(i)\n",
    "\n",
    "print(f'The sum of the digits in the numbers from 1 to one million is {sum}')\n",
    "\n",
    "\n",
    "## list로 변환\n",
    "sum = 0\n",
    "for i in range(1,1000001):\n",
    "    # digits = list(str(i))\n",
    "    for d in range(str(i)):\n",
    "        digits_sum += sum(int(i) for in range())\n",
    "print(digits_sum)"
   ]
  },
  {
   "cell_type": "code",
   "execution_count": 2,
   "metadata": {},
   "outputs": [
    {
     "name": "stdout",
     "output_type": "stream",
     "text": [
      "The word in Pig Latin is appleway\n"
     ]
    }
   ],
   "source": [
    "# Exercise 3.2\n",
    "word = input('Enter word to translate : ')\n",
    "if word[0] in 'aeiouAEIOU':\n",
    "    res = word + 'way'\n",
    "else:\n",
    "    idx = 0\n",
    "    for i in range(len(word)):\n",
    "        if word[i] in 'aeiouAEIOU':\n",
    "            res = word[i:] + word[:i] +'ay'\n",
    "print(f'The word in Pig Latin is {res}')\n",
    "        "
   ]
  },
  {
   "cell_type": "markdown",
   "metadata": {},
   "source": [
    "## __04. Functions__"
   ]
  },
  {
   "cell_type": "code",
   "execution_count": 16,
   "metadata": {},
   "outputs": [
    {
     "name": "stdout",
     "output_type": "stream",
     "text": [
      "x is  50\n",
      "change local x to 2\n",
      "x is 50\n"
     ]
    }
   ],
   "source": [
    "x= 50\n",
    "\n",
    "def func(x):\n",
    "    print('x is ',x)\n",
    "    x=2\n",
    "    print('change local x to',x)\n",
    "\n",
    "func(x)\n",
    "print('x is', x)"
   ]
  },
  {
   "cell_type": "code",
   "execution_count": 19,
   "metadata": {},
   "outputs": [
    {
     "name": "stdout",
     "output_type": "stream",
     "text": [
      "Sorted by length in ascending order : \n",
      "['two', 'brrr', 'break', 'equals', 'sequoia', 'democratic']\n",
      "\n",
      "Sorted by number of vowels in descending order : \n",
      "['sequoia', 'democratic', 'equals', 'break', 'two', 'brrr']\n"
     ]
    }
   ],
   "source": [
    "def numberOfVowels(word):\n",
    "    vowels = ('a','e','i','o','u')\n",
    "    total = 0\n",
    "    for vowel in vowels:\n",
    "        total += word.count(vowel)\n",
    "    return total\n",
    "\n",
    "def main():\n",
    "    list1 = ['democratic', 'sequoia','equals','brrr','break','two']\n",
    "    list1.sort(key=len)\n",
    "    print('Sorted by length in ascending order : ')\n",
    "    print(list1)\n",
    "    print()\n",
    "    list1.sort(key=numberOfVowels, reverse=True)\n",
    "    print('Sorted by number of vowels in descending order : ')\n",
    "    print(list1)\n",
    "main()"
   ]
  },
  {
   "cell_type": "code",
   "execution_count": 24,
   "metadata": {},
   "outputs": [
    {
     "name": "stdout",
     "output_type": "stream",
     "text": [
      "['white', 'blue', 'red']\n",
      "['blue', 'red', 'white']\n",
      "['white', 'red', 'blue']\n"
     ]
    },
    {
     "data": {
      "text/plain": [
       "['a', 'm', 'p', 's']"
      ]
     },
     "execution_count": 24,
     "metadata": {},
     "output_type": "execute_result"
    }
   ],
   "source": [
    "list1 = ['white','blue','red']\n",
    "list2 = sorted(list1)\n",
    "print(list1)\n",
    "print(list2)\n",
    "list1 = sorted(list1,reverse=True)\n",
    "print(list1)\n",
    "sorted('spam')"
   ]
  },
  {
   "cell_type": "markdown",
   "metadata": {},
   "source": [
    "### __List Comprehension__"
   ]
  },
  {
   "cell_type": "code",
   "execution_count": 43,
   "metadata": {},
   "outputs": [
    {
     "name": "stdout",
     "output_type": "stream",
     "text": [
      "[1, 5, 5, 7, 8]\n",
      "[25, 49, 25, 64, 1]\n"
     ]
    }
   ],
   "source": [
    "## 중요 !!\n",
    "list1 = [5, 7, 5, 8, 1]\n",
    "list2 = sorted([x for x in list1])\n",
    "print(list2)\n",
    "\n",
    "def g(x):\n",
    "    return (int(x)**2)\n",
    "list3 = [g(x) for x in list1]\n",
    "print(list3)"
   ]
  },
  {
   "cell_type": "markdown",
   "metadata": {},
   "source": [
    "### __Lambda Expression__"
   ]
  },
  {
   "cell_type": "markdown",
   "metadata": {},
   "source": [
    "+ 복잡한 함수는 대체할 수 없음?  \n"
   ]
  },
  {
   "cell_type": "code",
   "execution_count": 5,
   "metadata": {},
   "outputs": [
    {
     "name": "stdout",
     "output_type": "stream",
     "text": [
      "James Gosling, Dennis Ritchie\n"
     ]
    }
   ],
   "source": [
    "names = ['Dennis Ritchie','James Gosling']\n",
    "names.sort(key=lambda name: name.split()[-1]) # 람다식 이용해서 \" \"를 기준으로 split해서 -1번째 index 값을 찾아와서 정렬함\n",
    "nameString = \", \".join(names)\n",
    "print(nameString)"
   ]
  },
  {
   "cell_type": "markdown",
   "metadata": {},
   "source": [
    "#### __EXERCISE__"
   ]
  },
  {
   "cell_type": "code",
   "execution_count": null,
   "metadata": {},
   "outputs": [],
   "source": []
  },
  {
   "cell_type": "code",
   "execution_count": 27,
   "metadata": {},
   "outputs": [
    {
     "name": "stdout",
     "output_type": "stream",
     "text": [
      "abababababaabab\n",
      "aba\n",
      "4\n"
     ]
    }
   ],
   "source": [
    "# Exercise 4.1\n",
    "## 26. Count Function(중복되지 않는 substring 갯수 반환?)\n",
    "## count 함수 안쓰고\n",
    "def strCount(string,subStr):\n",
    "    cnt = 0\n",
    "    i = 0\n",
    "    length = len(subStr)\n",
    "    # subString 공백일 경우\n",
    "    if len(subStr) == 0:\n",
    "        return len(string) + 1\n",
    "    \n",
    "    while i < len(string):\n",
    "        if string[i:i+length] == subStr:\n",
    "            cnt += 1\n",
    "            i += length # 중복을 피하기 위해서 계산한 idx는 건너뜀\n",
    "        else:\n",
    "            i += 1 # !=subStr이면 idx 증가\n",
    "            \n",
    "    # for i in range(len(string)): for문 쓰기에는 복잡함 그냥 while문으로 반복하는게 낫다\n",
    "    #     if string[i:i+len(subStr)] == subStr:\n",
    "    #         cnt += 1      \n",
    "    #         i += len(subStr) - 1   \n",
    "    return cnt\n",
    "\n",
    "## count 함수\n",
    "def countStr(string,subStr):\n",
    "    return string.count(subStr)\n",
    "\n",
    "def main():\n",
    "    string = input('Enter a string : ')\n",
    "    subStr = input('Enter substring : ')\n",
    "    res = strCount(string,subStr)\n",
    "    print(string)\n",
    "    print(subStr)\n",
    "    print(res)\n",
    "\n",
    "main()"
   ]
  },
  {
   "cell_type": "code",
   "execution_count": 2,
   "metadata": {},
   "outputs": [
    {
     "name": "stdout",
     "output_type": "stream",
     "text": [
      "New salary for jenny heo : $42800.0\n"
     ]
    }
   ],
   "source": [
    "# Exercise 4.1\n",
    "# 30. Pay Raise\n",
    "def main():\n",
    "    fname = input('Enter first name : ')\n",
    "    lname = input('Enter a last name : ')\n",
    "    current_sal = float(input('Enter current salary : '))\n",
    "    res = cal_pay(current_sal)\n",
    "    print(f'New salary for {fname} {lname} : ${res}')\n",
    "    \n",
    "def cal_pay(salary):\n",
    "    if salary < 40000:\n",
    "        salary += salary * 0.05\n",
    "    else:\n",
    "        salary += (2000 + salary * 0.02)\n",
    "    return salary\n",
    "\n",
    "main()\n",
    "    "
   ]
  },
  {
   "cell_type": "markdown",
   "metadata": {},
   "source": [
    "## __05 Data Processing and File Access__    \n",
    "  \n",
    "__Reading Text Files__  "
   ]
  },
  {
   "cell_type": "code",
   "execution_count": 3,
   "metadata": {},
   "outputs": [
    {
     "name": "stdout",
     "output_type": "stream",
     "text": [
      "George Washington\n",
      "John Adams\n",
      "Thomas Jefferson\n"
     ]
    }
   ],
   "source": [
    "def displaywithLoop(file):\n",
    "    infile = open(file,'r')\n",
    "    for line in infile:\n",
    "        print(line.rstrip())\n",
    "    infile.close()\n",
    "\n",
    "displaywithLoop('file.txt')\n",
    "    "
   ]
  },
  {
   "cell_type": "markdown",
   "metadata": {},
   "source": [
    "__Creating Text file__"
   ]
  },
  {
   "cell_type": "code",
   "execution_count": 6,
   "metadata": {},
   "outputs": [],
   "source": [
    "def main():\n",
    "    L = ['George Washington','John Adams','hihi']\n",
    "    outFile = open('file.txt','w')\n",
    "    createWithWrite(L,outFile)\n",
    "    \n",
    "def createWithWrite(L, outfile):\n",
    "    for i in range(len(L)):\n",
    "        outfile.write(L[i] + '\\n')\n",
    "    outfile.close()\n",
    "\n",
    "main()\n",
    "    "
   ]
  },
  {
   "cell_type": "code",
   "execution_count": 10,
   "metadata": {},
   "outputs": [
    {
     "name": "stdout",
     "output_type": "stream",
     "text": [
      "['Delaware', 'Pennsylvania', 'New Jersey', 'Georgia', 'Connecticut', 'Massachusetts', 'Maryland', 'South Carolina', 'New Hampshire', 'Virginia', 'New York', 'North Carolina', 'Rhode Island', 'Vermont', 'Kentucky', 'Tennessee', 'Ohio', 'Louisiana', 'Indiana', 'Mississippi', 'Illinois', 'Alabama', 'Maine', 'Missouri', 'Arkansas', 'Michigan', 'Florida', 'Texas', 'Iowa', 'Wisconsin', 'California', 'Minnesota', 'Oregon', 'Kansas', 'West Virginia', 'Nevada', 'Nebraska', 'Colorado', 'North Dakota', 'South Dakota', 'Montana', 'Washington', 'Idaho', 'Wyoming', 'Utah', 'Oklahoma', 'New Mexico', 'Arizona', 'Alaska', 'Hawaii']\n"
     ]
    }
   ],
   "source": [
    "def main():\n",
    "    stateList = createListFromFile('./AIP_05_Data Processing and File Access_data/states.txt')\n",
    "    print(stateList)\n",
    "\n",
    "def createListFromFile(fileName):\n",
    "    infile = open(fileName,'r')\n",
    "    desiredList = [line.rstrip() for line in infile]\n",
    "    infile.close()\n",
    "    return desiredList\n",
    "main()"
   ]
  },
  {
   "cell_type": "markdown",
   "metadata": {},
   "source": [
    "### __Set__"
   ]
  },
  {
   "cell_type": "code",
   "execution_count": 18,
   "metadata": {},
   "outputs": [
    {
     "name": "stdout",
     "output_type": "stream",
     "text": [
      "{'india', 'brazil'}\n",
      "{'india', 'russia', 'china', 'brazil'}\n"
     ]
    },
    {
     "data": {
      "text/plain": [
       "{'brazil', 'india'}"
      ]
     },
     "execution_count": 18,
     "metadata": {},
     "output_type": "execute_result"
    }
   ],
   "source": [
    "bri ={'brazil','russia','india'}\n",
    "bric = bri.copy()\n",
    "bric.add('china')\n",
    "bri.remove('russia')\n",
    "print(bri)\n",
    "print(bric)\n",
    "bric.issuperset(bri)\n",
    "bri & bric"
   ]
  },
  {
   "cell_type": "code",
   "execution_count": 21,
   "metadata": {},
   "outputs": [
    {
     "name": "stdout",
     "output_type": "stream",
     "text": [
      "{'wunk', 'wink', 'nudge'}\n"
     ]
    }
   ],
   "source": [
    "words = ['nudge','nudge','wink','wunk']\n",
    "tuple(words)\n",
    "terms = set(words)\n",
    "print(terms)"
   ]
  },
  {
   "cell_type": "markdown",
   "metadata": {},
   "source": [
    "### __Dictionary__  "
   ]
  },
  {
   "cell_type": "code",
   "execution_count": 23,
   "metadata": {},
   "outputs": [
    {
     "name": "stdout",
     "output_type": "stream",
     "text": [
      "swaroop@swaroop.com\n"
     ]
    }
   ],
   "source": [
    "addr = {'Sqwroop':'swaroop@swaroop.com'}\n",
    "print(addr['Sqwroop'])"
   ]
  },
  {
   "cell_type": "code",
   "execution_count": 33,
   "metadata": {},
   "outputs": [
    {
     "name": "stdout",
     "output_type": "stream",
     "text": [
      "0 : ('Park', 12345)\n",
      "1 : ('Kim', 456785)\n",
      "2 : ('Heo', 7865431)\n",
      "3 : ('Na', 20000813)\n",
      "Park : 12345\n",
      "Kim : 456785\n",
      "Heo : 7865431\n",
      "Na : 20000813\n"
     ]
    }
   ],
   "source": [
    "d={\n",
    "    'Park':12345,\n",
    "    'Kim':456785,\n",
    "    'Heo':7865431,\n",
    "    \"Na\": 20000813\n",
    "}\n",
    "for i,v in enumerate(d.items()):\n",
    "    print(i,':',v)\n",
    "    \n",
    "for key, value in d.items():\n",
    "    print(f'{key} : {value}')"
   ]
  },
  {
   "cell_type": "code",
   "execution_count": 35,
   "metadata": {},
   "outputs": [
    {
     "data": {
      "text/plain": [
       "'c'"
      ]
     },
     "execution_count": 35,
     "metadata": {},
     "output_type": "execute_result"
    }
   ],
   "source": [
    "d={1:'a',2:'b',3:'c'}\n",
    "max(d)\n",
    "max(d.values())"
   ]
  },
  {
   "cell_type": "code",
   "execution_count": 1,
   "metadata": {},
   "outputs": [
    {
     "name": "stdout",
     "output_type": "stream",
     "text": [
      "Enter the person's age groupThe admission fee is 0 dollars.\n"
     ]
    }
   ],
   "source": [
    "def main():\n",
    "    print('Enter the person\\'s age group', end=\"\")\n",
    "    ageGroup = input('(child, minor, adult or senior) : ')\n",
    "    print('The admission fee is', determineAdmissionFee(ageGroup),'dollars.')\n",
    "\n",
    "def determineAdmissionFee(ageGroup):\n",
    "    if ageGroup == 'child': # age  < 6 = free\n",
    "        return 0\n",
    "    elif ageGroup == 'minor':   # age 6 to 17 = $5\n",
    "        return 5\n",
    "    elif ageGroup == 'adult':   # age 18 to 64\n",
    "        return 10\n",
    "    elif ageGroup == 'senior':\n",
    "        return 8\n",
    "main()"
   ]
  },
  {
   "cell_type": "markdown",
   "metadata": {},
   "source": [
    "### __Using a Dictionary as a Frequency Table__  "
   ]
  },
  {
   "cell_type": "code",
   "execution_count": 10,
   "metadata": {},
   "outputs": [
    {
     "name": "stdout",
     "output_type": "stream",
     "text": [
      "The Gettysburg Address contains 268 words.\n",
      "The Gettysburg Address contains 139 words.\n",
      "\n",
      "The most common words and their frequencies are : \n",
      "      that : 13\n",
      "      the : 11\n",
      "      we : 10\n",
      "      to : 8\n",
      "      here : 8\n",
      "      a : 7\n",
      "      and : 6\n"
     ]
    }
   ],
   "source": [
    "def main():\n",
    "    listOfWords = formListOfWords(\"./AIP_05_Data Processing and File Access_data/Gettysburg.txt\")\n",
    "    freq = createFrequencyDictionary(listOfWords)\n",
    "    displayWordCount(listOfWords,freq)\n",
    "    displayMostCommonWords(freq)\n",
    "\n",
    "def formListOfWords(fileName):\n",
    "    infile = open(fileName)\n",
    "    originalLine = infile.readline().lower()\n",
    "    line = \"\"\n",
    "    for ch in originalLine:\n",
    "        if('a' <= ch <= 'z') or (ch==' '):\n",
    "            line += ch\n",
    "    listofWords = line.split()\n",
    "    return listofWords\n",
    "\n",
    "def createFrequencyDictionary(listofWords):\n",
    "    freq = {}\n",
    "    for word in listofWords:\n",
    "        freq[word] = 0\n",
    "    for word in listofWords:\n",
    "        freq[word] = freq[word] + 1\n",
    "        \n",
    "    return freq\n",
    "\n",
    "def displayWordCount(listofWords, freq):\n",
    "    print('The Gettysburg Address contains', len(listofWords), 'words.')\n",
    "    print('The Gettysburg Address contains', len(freq), 'words.')\n",
    "    print()\n",
    "    \n",
    "def displayMostCommonWords(freq):\n",
    "    print('The most common words and their frequencies are : ')\n",
    "    # listOfCommonWords = []\n",
    "    # for word in freq.keys():\n",
    "    #     if freq[word] >= 6:\n",
    "    #         listOfCommonWords.append((word,freq[word]))\n",
    "   \n",
    "    # list comprehension 이용해보깅\n",
    "    listOfCommonWords = [(word, freq[word]) for word in freq.keys() if freq[word] >= 6]\n",
    "    listOfCommonWords.sort(key=lambda x:x[1], reverse=True)\n",
    "    \n",
    "    for item in listOfCommonWords:\n",
    "        print(\"     \",item[0],':',item[1])\n",
    "        \n",
    "main()"
   ]
  },
  {
   "cell_type": "markdown",
   "metadata": {},
   "source": [
    "### __Storing Dictionaries in Binary Files__  \n",
    "  \n",
    "+ Dictionary file로 저장하는 모듈 ? => pickle"
   ]
  },
  {
   "cell_type": "markdown",
   "metadata": {},
   "source": [
    "### __Dictionary - Valued Dictionaries__  \n",
    "  \n",
    "+ Dictionary의 value값에 dictionary를 값으로 넣을 수 있음"
   ]
  },
  {
   "cell_type": "code",
   "execution_count": 12,
   "metadata": {},
   "outputs": [],
   "source": [
    "import pickle\n",
    "\n",
    "def main():\n",
    "    nations = getDictionary('./AIP_05_Data Processing and File Access_data/UNDict.txt')\n",
    "    \n",
    "    \n",
    "    \n",
    "def getDictionary(fileName):\n",
    "    infile = open(fileName, 'rb')\n",
    "    countries = pickle.load(infile)\n",
    "    infile.close()\n",
    "    return countries"
   ]
  },
  {
   "cell_type": "markdown",
   "metadata": {},
   "source": [
    "### __Using a Dictionary with Tuples as Keys__  \n",
    "  \n",
    "+ key값으로 tuple은 가능하지만 list는 불가능  \n",
    "    + (tuple - immutable, list = mutable인데 dic의 키값으론 immutable값만 가능)"
   ]
  },
  {
   "cell_type": "markdown",
   "metadata": {},
   "source": [
    "### __Dictionary Comprehension__  \n",
    "  \n",
    "+ Dictionary도 comprehension으로 바로 key : value 만들 수 있읍\n",
    "  \n",
    "```\n",
    " ex)  \n",
    "    dic = {x:x*x for x in range(4)}\n",
    "```"
   ]
  },
  {
   "cell_type": "markdown",
   "metadata": {},
   "source": [
    "#### __Exercies__"
   ]
  },
  {
   "cell_type": "code",
   "execution_count": 37,
   "metadata": {},
   "outputs": [
    {
     "name": "stdout",
     "output_type": "stream",
     "text": [
      "hihi contains three successive letters in consecutive alphabetical order.\n"
     ]
    }
   ],
   "source": [
    "## chapter 4 programming projects\n",
    "# Alpahbetical order\n",
    "def countAlphabet(word):\n",
    "    cnt = 0\n",
    "    for w in range(len(word)-1): # index범위 -1로 설정해야 if문에서 indexoutofrange 오류 안남\n",
    "        if ord(word[w]) == ord(word[w+1])-1:\n",
    "            cnt += 1\n",
    "            return cnt\n",
    "        if cnt == 3:\n",
    "            return True\n",
    "        else:\n",
    "            return False\n",
    "        \n",
    "word = input('Enter a word : ')\n",
    "if countAlphabet(word):\n",
    "    print(f'{word} contains three successive letters in consecutive alphabetical order.')\n",
    "else:\n",
    "    print(f\"{word} does not contain three successive letters in consecutive alphabetical order.\")\n",
    "     "
   ]
  },
  {
   "cell_type": "code",
   "execution_count": null,
   "metadata": {},
   "outputs": [],
   "source": [
    "# 교수님 코드\n",
    "def main():\n",
    "    word = getInput()\n",
    "\n",
    "    if isTripleConsecutive(word.upper()):\n",
    "        print(\"{} contains three successive letters in consecutive alphabetical order\".format(word))\n",
    "    else:\n",
    "        print(\"{} does not contain three successive letters in consecutive alphabetical order\".format(word))\n",
    "\n",
    "def getInput():\n",
    "    word = input(\"Enter a word: \")\n",
    "    return word\n",
    "\n",
    "def isTripleConsecutive(word):\n",
    "    for i in range(len(word)-2):\n",
    "        if word[i].isalpha() and ord(word[i])+1 == ord(word[i+1]) and ord(word[i+1])+1 == ord(word[i+2]):\n",
    "            return True\n",
    "        return False\n",
    "    \n",
    "main()"
   ]
  },
  {
   "cell_type": "code",
   "execution_count": 38,
   "metadata": {},
   "outputs": [],
   "source": [
    "## chapter 5 programming projects\n",
    "# unit conversions\n",
    "def readUnits():\n",
    "    file_unit = open('./h3 data files/Units.txt','r')\n",
    "    dict_unit = {}\n",
    "    for line in file_unit:\n",
    "        name, value = line.split(',')\n",
    "        dict_unit[name] = float(value)      \n",
    "\n",
    "def main():\n",
    "    print('Units of length')\n",
    "    dict_unit = readUnits()\n",
    "    for i, unit in enumerate(dict_unit):\n",
    "        print('{:<15}'.format(unit),end='')\n",
    "        if (i+1) % 3 ==0:\n",
    "            print()\n",
    "    \n",
    "    \n",
    "#     unit_from = input('Unit to convert from : ')\n",
    "#     unit_to = input('Unit to convert to : ')\n",
    "#     length = input(f'Enter length in {unit_from} : ')\n",
    "#     res = convertFromTo(unit_from,unit_to,length)\n",
    "#     print(f'Length in {unit_to} :', res)\n",
    "    \n",
    "# def convertFromTo(unit_f, unit_t, l):\n",
    "#     infile = open('./h3 data files/Units.txt','r')\n",
    "#     dict_unit = {}\n",
    "#     for line in infile:\n",
    "#          \n",
    "    "
   ]
  },
  {
   "cell_type": "code",
   "execution_count": null,
   "metadata": {},
   "outputs": [],
   "source": [
    "# 교수님 코드\n",
    "def main():\n",
    "    print('UNITS OF LENGTH')\n",
    "    dict_unit = readUnits()\n",
    "\n",
    "    # count = 0\n",
    "    # for unit in dict_unit:\n",
    "    #     print('{:<15}'.format(unit), end='')\n",
    "    #     count += 1\n",
    "    #     if count == 3:\n",
    "    #         print()\n",
    "    #         count = 0\n",
    "\n",
    "    for i, unit in enumerate(dict_unit):\n",
    "        print('{:<15}'.format(unit), end='')\n",
    "        if (i+1) % 3 == 0:\n",
    "            print()\n",
    "\n",
    "    unit_from, unit_to, length = getInput()\n",
    "\n",
    "    length_converted = convertUnits(unit_from, unit_to, length, dict_unit)\n",
    "    print('Length in {}: {:.4f}'.format(unit_to, length_converted))\n",
    "\n",
    "def readUnits():\n",
    "    file_unit = open('../data/Units.txt', 'r')\n",
    "\n",
    "    dict_unit = {}\n",
    "    for line in file_unit:\n",
    "        name, value = line.split(',')\n",
    "        dict_unit[name] = float(value)\n",
    "    \n",
    "    file_unit.close()\n",
    "\n",
    "    return dict_unit\n",
    "\n",
    "def getInput():\n",
    "    unit_from = input('Unit to convert from: ')\n",
    "    unit_to = input('Unit to coverto to: ')\n",
    "    length = float(input('Enter length in {}'.format(unit_from)))\n",
    "\n",
    "    return unit_from, unit_to, length\n",
    "\n",
    "def convertUnits(unit_from, unit_to, length, dict_unit):\n",
    "    return length * dict_unit[unit_from]/ dict_unit[unit_to]\n",
    "\n",
    "main()"
   ]
  }
 ],
 "metadata": {
  "kernelspec": {
   "display_name": "Python 3",
   "language": "python",
   "name": "python3"
  },
  "language_info": {
   "codemirror_mode": {
    "name": "ipython",
    "version": 3
   },
   "file_extension": ".py",
   "mimetype": "text/x-python",
   "name": "python",
   "nbconvert_exporter": "python",
   "pygments_lexer": "ipython3",
   "version": "3.10.11"
  },
  "orig_nbformat": 4
 },
 "nbformat": 4,
 "nbformat_minor": 2
}
