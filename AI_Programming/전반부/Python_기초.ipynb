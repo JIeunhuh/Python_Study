{
 "cells": [
  {
   "cell_type": "code",
   "execution_count": 1,
   "metadata": {},
   "outputs": [
    {
     "name": "stdout",
     "output_type": "stream",
     "text": [
      "abc\n",
      "def\n"
     ]
    }
   ],
   "source": [
    "s = \"\"\"abc\n",
    "def\"\"\"\n",
    "print(s)"
   ]
  },
  {
   "cell_type": "code",
   "execution_count": 7,
   "metadata": {},
   "outputs": [
    {
     "ename": "TypeError",
     "evalue": "unsupported operand type(s) for -: 'str' and 'str'",
     "output_type": "error",
     "traceback": [
      "\u001b[1;31m---------------------------------------------------------------------------\u001b[0m",
      "\u001b[1;31mTypeError\u001b[0m                                 Traceback (most recent call last)",
      "Cell \u001b[1;32mIn[7], line 4\u001b[0m\n\u001b[0;32m      2\u001b[0m \u001b[39m'\u001b[39m\u001b[39ma\u001b[39m\u001b[39m'\u001b[39m\u001b[39m*\u001b[39m\u001b[39m3\u001b[39m\n\u001b[0;32m      3\u001b[0m (\u001b[39m'\u001b[39m\u001b[39mcha-\u001b[39m\u001b[39m'\u001b[39m\u001b[39m*\u001b[39m\u001b[39m2\u001b[39m)\u001b[39m+\u001b[39m\u001b[39m'\u001b[39m\u001b[39mcha\u001b[39m\u001b[39m'\u001b[39m\n\u001b[1;32m----> 4\u001b[0m \u001b[39m'\u001b[39;49m\u001b[39mgoodbye\u001b[39;49m\u001b[39m'\u001b[39;49m\u001b[39m-\u001b[39;49m\u001b[39m'\u001b[39;49m\u001b[39mbye\u001b[39;49m\u001b[39m'\u001b[39;49m\n",
      "\u001b[1;31mTypeError\u001b[0m: unsupported operand type(s) for -: 'str' and 'str'"
     ]
    }
   ],
   "source": [
    "'good'+'bye'\n",
    "'a'*3\n",
    "('cha-'*2)+'cha'\n",
    "# 'goodbye'-'bye' error!"
   ]
  },
  {
   "cell_type": "code",
   "execution_count": 8,
   "metadata": {},
   "outputs": [
    {
     "data": {
      "text/plain": [
       "165"
      ]
     },
     "execution_count": 8,
     "metadata": {},
     "output_type": "execute_result"
    }
   ],
   "source": [
    "x=5\n",
    "eval('(23+10)*x') # eval() 쓰는 이유 : 파일에서 읽어온 수식을 계산해야 할 때(수식을 모르는데 계산해야 할때)"
   ]
  },
  {
   "cell_type": "code",
   "execution_count": 23,
   "metadata": {},
   "outputs": [
    {
     "data": {
      "text/plain": [
       "5"
      ]
     },
     "execution_count": 23,
     "metadata": {},
     "output_type": "execute_result"
    }
   ],
   "source": [
    "exec('x=2')\n",
    "exec('y=3')\n",
    "eval('x+y')\n",
    "exec('x+y') #return값이 없어서 변수 할당해서 출력해도 none\n",
    "exec('z = x+y') # z로 저장해줌 \n",
    "z # 그럼 출력됨!\n",
    "\n"
   ]
  },
  {
   "cell_type": "code",
   "execution_count": 26,
   "metadata": {},
   "outputs": [
    {
     "data": {
      "text/plain": [
       "str"
      ]
     },
     "execution_count": 26,
     "metadata": {},
     "output_type": "execute_result"
    }
   ],
   "source": [
    "str(5.5) \n",
    "str(5.) # float 형식으로 출력됨\n"
   ]
  },
  {
   "cell_type": "code",
   "execution_count": 28,
   "metadata": {},
   "outputs": [
    {
     "name": "stdout",
     "output_type": "stream",
     "text": [
      "3\n"
     ]
    }
   ],
   "source": [
    "numberOfG = \"Good Doggie\".lower().count('g')\n",
    "print(numberOfG)"
   ]
  },
  {
   "cell_type": "code",
   "execution_count": 29,
   "metadata": {},
   "outputs": [
    {
     "name": "stdout",
     "output_type": "stream",
     "text": [
      "My name is jieun.\n"
     ]
    }
   ],
   "source": [
    "name = 'jieun'\n",
    "print(f'My name is {name}.')"
   ]
  },
  {
   "cell_type": "code",
   "execution_count": 31,
   "metadata": {},
   "outputs": [
    {
     "name": "stdout",
     "output_type": "stream",
     "text": [
      "a is b\n",
      "b is a\n"
     ]
    }
   ],
   "source": [
    "print('{} is {}'.format('a','b'))\n",
    "print('{1} is {0}'.format('a','b'))"
   ]
  },
  {
   "cell_type": "code",
   "execution_count": 34,
   "metadata": {},
   "outputs": [
    {
     "name": "stdout",
     "output_type": "stream",
     "text": [
      "Rank Player               HR\n",
      "  1  Henry               762\n"
     ]
    }
   ],
   "source": [
    "print(\"{0:^5}{1:<20}{2:>3}\".format(\"Rank\",\"Player\",'HR')) # 정렬 ? 왼쪽, 오른쪽, 중앙으로 정렬 시키는\n",
    "print(\"{0:^5}{1:<20}{2:>3}\".format(1,\"Henry\",'762'))"
   ]
  },
  {
   "cell_type": "code",
   "execution_count": 37,
   "metadata": {},
   "outputs": [
    {
     "name": "stdout",
     "output_type": "stream",
     "text": [
      "jenny is jieun\n"
     ]
    }
   ],
   "source": [
    "print('{name} is {name1}'.format(name ='jenny',name1='jieun'))"
   ]
  },
  {
   "cell_type": "code",
   "execution_count": 42,
   "metadata": {},
   "outputs": [
    {
     "name": "stdout",
     "output_type": "stream",
     "text": [
      "10.75\n"
     ]
    }
   ],
   "source": [
    "숫자 = eval(input('숫자를 입력하세요 : ')) # string이 들어오면 그 숫자를 그대로 계산해서 출력(정수 입력하면 정수, 실수 입력하면 실수로 나오게)\n",
    "print(숫자 * 5)"
   ]
  },
  {
   "cell_type": "code",
   "execution_count": 48,
   "metadata": {},
   "outputs": [
    {
     "name": "stdout",
     "output_type": "stream",
     "text": [
      "Last name  jieun\n",
      "First name  heo\n"
     ]
    }
   ],
   "source": [
    "name = input('Enter a full name : ')\n",
    "n = name.rfind(' ') # .rfind()\n",
    "print('Last name ', name[n+1:])\n",
    "print('First name ', name[:n])"
   ]
  },
  {
   "cell_type": "code",
   "execution_count": 49,
   "metadata": {},
   "outputs": [
    {
     "name": "stdout",
     "output_type": "stream",
     "text": [
      "value is  5\n"
     ]
    }
   ],
   "source": [
    "i = 5\n",
    "print('value is ', i)"
   ]
  },
  {
   "cell_type": "code",
   "execution_count": 51,
   "metadata": {},
   "outputs": [
    {
     "name": "stdout",
     "output_type": "stream",
     "text": [
      "The area of Texas is 268,820 square miles\n",
      "The population of texas is 85.59% of the U.S. population\n"
     ]
    }
   ],
   "source": [
    "print('The area of {0} is {1:,} square miles'.format(\"Texas\",268820))\n",
    "print('The population of {0} is {1:.2%} of the U.S. population'.format(\"texas\",26448000/30900000))"
   ]
  },
  {
   "cell_type": "code",
   "execution_count": 56,
   "metadata": {},
   "outputs": [
    {
     "data": {
      "text/plain": [
       "-6"
      ]
     },
     "execution_count": 56,
     "metadata": {},
     "output_type": "execute_result"
    }
   ],
   "source": [
    "# 비트연산자\n",
    "5 & 3 # 2진수로 표기했을 때, 같으면 1 다르면 0 and\n",
    "5 | 3 # 둘 중에 하나라도 1이면 1 or\n",
    "5 ^ 3 # 값이 다르면 1, 같으면 0 xor\n",
    "~ 5 # invert"
   ]
  },
  {
   "cell_type": "code",
   "execution_count": 57,
   "metadata": {},
   "outputs": [
    {
     "data": {
      "text/plain": [
       "True"
      ]
     },
     "execution_count": 57,
     "metadata": {},
     "output_type": "execute_result"
    }
   ],
   "source": [
    "5>3<7 # == '5 > 3 and 3 < 7'"
   ]
  },
  {
   "cell_type": "code",
   "execution_count": 61,
   "metadata": {},
   "outputs": [
    {
     "data": {
      "text/plain": [
       "False"
      ]
     },
     "execution_count": 61,
     "metadata": {},
     "output_type": "execute_result"
    }
   ],
   "source": [
    "l = 10\n",
    "m = 5\n",
    "n = 0\n",
    "# short - circuit evaluation\n",
    "(n != 0) and (l == (m / n)) # 나누는 값이 0인데 오류가 안남 ; 이유 : n!=0이 이미 false라서 and 연산이기 때문에 뒤에 값 안보고 바로 false 출력함"
   ]
  },
  {
   "cell_type": "code",
   "execution_count": 69,
   "metadata": {},
   "outputs": [
    {
     "name": "stdout",
     "output_type": "stream",
     "text": [
      "down 👎🏻\n",
      "down 👎🏻\n",
      "down 👎🏻\n",
      "down 👎🏻\n",
      "up 👍🏻\n",
      "up 👍🏻\n",
      "up 👍🏻\n",
      "Correct ! \n"
     ]
    }
   ],
   "source": [
    "import random as rd\n",
    "number = rd.randrange(1,50)\n",
    "while True:\n",
    "    guess = int(input(' Enter a number : '))\n",
    "    if guess==number:\n",
    "        print('Correct ! ')\n",
    "        break\n",
    "    elif guess<number:\n",
    "        print('up 👍🏻')\n",
    "    elif guess>number:\n",
    "        print('down 👎🏻')"
   ]
  }
 ],
 "metadata": {
  "kernelspec": {
   "display_name": "Python 3",
   "language": "python",
   "name": "python3"
  },
  "language_info": {
   "codemirror_mode": {
    "name": "ipython",
    "version": 3
   },
   "file_extension": ".py",
   "mimetype": "text/x-python",
   "name": "python",
   "nbconvert_exporter": "python",
   "pygments_lexer": "ipython3",
   "version": "3.10.11"
  },
  "orig_nbformat": 4
 },
 "nbformat": 4,
 "nbformat_minor": 2
}
