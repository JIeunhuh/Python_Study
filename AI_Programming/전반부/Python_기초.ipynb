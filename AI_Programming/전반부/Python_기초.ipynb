{
 "cells": [
  {
   "cell_type": "code",
   "execution_count": 1,
   "metadata": {},
   "outputs": [
    {
     "name": "stdout",
     "output_type": "stream",
     "text": [
      "abc\n",
      "def\n"
     ]
    }
   ],
   "source": [
    "s = \"\"\"abc\n",
    "def\"\"\"\n",
    "print(s)"
   ]
  },
  {
   "cell_type": "code",
   "execution_count": 7,
   "metadata": {},
   "outputs": [
    {
     "ename": "TypeError",
     "evalue": "unsupported operand type(s) for -: 'str' and 'str'",
     "output_type": "error",
     "traceback": [
      "\u001b[1;31m---------------------------------------------------------------------------\u001b[0m",
      "\u001b[1;31mTypeError\u001b[0m                                 Traceback (most recent call last)",
      "Cell \u001b[1;32mIn[7], line 4\u001b[0m\n\u001b[0;32m      2\u001b[0m \u001b[39m'\u001b[39m\u001b[39ma\u001b[39m\u001b[39m'\u001b[39m\u001b[39m*\u001b[39m\u001b[39m3\u001b[39m\n\u001b[0;32m      3\u001b[0m (\u001b[39m'\u001b[39m\u001b[39mcha-\u001b[39m\u001b[39m'\u001b[39m\u001b[39m*\u001b[39m\u001b[39m2\u001b[39m)\u001b[39m+\u001b[39m\u001b[39m'\u001b[39m\u001b[39mcha\u001b[39m\u001b[39m'\u001b[39m\n\u001b[1;32m----> 4\u001b[0m \u001b[39m'\u001b[39;49m\u001b[39mgoodbye\u001b[39;49m\u001b[39m'\u001b[39;49m\u001b[39m-\u001b[39;49m\u001b[39m'\u001b[39;49m\u001b[39mbye\u001b[39;49m\u001b[39m'\u001b[39;49m\n",
      "\u001b[1;31mTypeError\u001b[0m: unsupported operand type(s) for -: 'str' and 'str'"
     ]
    }
   ],
   "source": [
    "'good'+'bye'\n",
    "'a'*3\n",
    "('cha-'*2)+'cha'\n",
    "# 'goodbye'-'bye' error!"
   ]
  },
  {
   "cell_type": "code",
   "execution_count": 8,
   "metadata": {},
   "outputs": [
    {
     "data": {
      "text/plain": [
       "165"
      ]
     },
     "execution_count": 8,
     "metadata": {},
     "output_type": "execute_result"
    }
   ],
   "source": [
    "x=5\n",
    "eval('(23+10)*x') # eval() 쓰는 이유 : 파일에서 읽어온 수식을 계산해야 할 때(수식을 모르는데 계산해야 할때)"
   ]
  },
  {
   "cell_type": "code",
   "execution_count": 23,
   "metadata": {},
   "outputs": [
    {
     "data": {
      "text/plain": [
       "5"
      ]
     },
     "execution_count": 23,
     "metadata": {},
     "output_type": "execute_result"
    }
   ],
   "source": [
    "exec('x=2')\n",
    "exec('y=3')\n",
    "eval('x+y')\n",
    "exec('x+y') #return값이 없어서 변수 할당해서 출력해도 none\n",
    "exec('z = x+y') # z로 저장해줌 \n",
    "z # 그럼 출력됨!\n",
    "\n"
   ]
  },
  {
   "cell_type": "code",
   "execution_count": 26,
   "metadata": {},
   "outputs": [
    {
     "data": {
      "text/plain": [
       "str"
      ]
     },
     "execution_count": 26,
     "metadata": {},
     "output_type": "execute_result"
    }
   ],
   "source": [
    "str(5.5) \n",
    "str(5.) # float 형식으로 출력됨\n"
   ]
  },
  {
   "cell_type": "code",
   "execution_count": 28,
   "metadata": {},
   "outputs": [
    {
     "name": "stdout",
     "output_type": "stream",
     "text": [
      "3\n"
     ]
    }
   ],
   "source": [
    "numberOfG = \"Good Doggie\".lower().count('g')\n",
    "print(numberOfG)"
   ]
  },
  {
   "cell_type": "code",
   "execution_count": 29,
   "metadata": {},
   "outputs": [
    {
     "name": "stdout",
     "output_type": "stream",
     "text": [
      "My name is jieun.\n"
     ]
    }
   ],
   "source": [
    "name = 'jieun'\n",
    "print(f'My name is {name}.')"
   ]
  },
  {
   "cell_type": "code",
   "execution_count": 31,
   "metadata": {},
   "outputs": [
    {
     "name": "stdout",
     "output_type": "stream",
     "text": [
      "a is b\n",
      "b is a\n"
     ]
    }
   ],
   "source": [
    "print('{} is {}'.format('a','b'))\n",
    "print('{1} is {0}'.format('a','b'))"
   ]
  },
  {
   "cell_type": "code",
   "execution_count": 34,
   "metadata": {},
   "outputs": [
    {
     "name": "stdout",
     "output_type": "stream",
     "text": [
      "Rank Player               HR\n",
      "  1  Henry               762\n"
     ]
    }
   ],
   "source": [
    "print(\"{0:^5}{1:<20}{2:>3}\".format(\"Rank\",\"Player\",'HR')) # 정렬 ? 왼쪽, 오른쪽, 중앙으로 정렬 시키는\n",
    "print(\"{0:^5}{1:<20}{2:>3}\".format(1,\"Henry\",'762'))"
   ]
  },
  {
   "cell_type": "code",
   "execution_count": 37,
   "metadata": {},
   "outputs": [
    {
     "name": "stdout",
     "output_type": "stream",
     "text": [
      "jenny is jieun\n"
     ]
    }
   ],
   "source": [
    "print('{name} is {name1}'.format(name ='jenny',name1='jieun'))"
   ]
  },
  {
   "cell_type": "code",
   "execution_count": 42,
   "metadata": {},
   "outputs": [
    {
     "name": "stdout",
     "output_type": "stream",
     "text": [
      "10.75\n"
     ]
    }
   ],
   "source": [
    "숫자 = eval(input('숫자를 입력하세요 : ')) # string이 들어오면 그 숫자를 그대로 계산해서 출력(정수 입력하면 정수, 실수 입력하면 실수로 나오게)\n",
    "print(숫자 * 5)"
   ]
  },
  {
   "cell_type": "code",
   "execution_count": 48,
   "metadata": {},
   "outputs": [
    {
     "name": "stdout",
     "output_type": "stream",
     "text": [
      "Last name  jieun\n",
      "First name  heo\n"
     ]
    }
   ],
   "source": [
    "name = input('Enter a full name : ')\n",
    "n = name.rfind(' ') # .rfind()\n",
    "print('Last name ', name[n+1:])\n",
    "print('First name ', name[:n])"
   ]
  },
  {
   "cell_type": "code",
   "execution_count": 49,
   "metadata": {},
   "outputs": [
    {
     "name": "stdout",
     "output_type": "stream",
     "text": [
      "value is  5\n"
     ]
    }
   ],
   "source": [
    "i = 5\n",
    "print('value is ', i)"
   ]
  },
  {
   "cell_type": "code",
   "execution_count": 51,
   "metadata": {},
   "outputs": [
    {
     "name": "stdout",
     "output_type": "stream",
     "text": [
      "The area of Texas is 268,820 square miles\n",
      "The population of texas is 85.59% of the U.S. population\n"
     ]
    }
   ],
   "source": [
    "print('The area of {0} is {1:,} square miles'.format(\"Texas\",268820))\n",
    "print('The population of {0} is {1:.2%} of the U.S. population'.format(\"texas\",26448000/30900000))"
   ]
  },
  {
   "cell_type": "code",
   "execution_count": 56,
   "metadata": {},
   "outputs": [
    {
     "data": {
      "text/plain": [
       "-6"
      ]
     },
     "execution_count": 56,
     "metadata": {},
     "output_type": "execute_result"
    }
   ],
   "source": [
    "# 비트연산자\n",
    "5 & 3 # 2진수로 표기했을 때, 같으면 1 다르면 0 and\n",
    "5 | 3 # 둘 중에 하나라도 1이면 1 or\n",
    "5 ^ 3 # 값이 다르면 1, 같으면 0 xor\n",
    "~ 5 # invert"
   ]
  },
  {
   "cell_type": "code",
   "execution_count": 57,
   "metadata": {},
   "outputs": [
    {
     "data": {
      "text/plain": [
       "True"
      ]
     },
     "execution_count": 57,
     "metadata": {},
     "output_type": "execute_result"
    }
   ],
   "source": [
    "5>3<7 # == '5 > 3 and 3 < 7'"
   ]
  },
  {
   "cell_type": "code",
   "execution_count": 61,
   "metadata": {},
   "outputs": [
    {
     "data": {
      "text/plain": [
       "False"
      ]
     },
     "execution_count": 61,
     "metadata": {},
     "output_type": "execute_result"
    }
   ],
   "source": [
    "l = 10\n",
    "m = 5\n",
    "n = 0\n",
    "# short - circuit evaluation\n",
    "(n != 0) and (l == (m / n)) # 나누는 값이 0인데 오류가 안남 ; 이유 : n!=0이 이미 false라서 and 연산이기 때문에 뒤에 값 안보고 바로 false 출력함"
   ]
  },
  {
   "cell_type": "code",
   "execution_count": 69,
   "metadata": {},
   "outputs": [
    {
     "name": "stdout",
     "output_type": "stream",
     "text": [
      "down 👎🏻\n",
      "down 👎🏻\n",
      "down 👎🏻\n",
      "down 👎🏻\n",
      "up 👍🏻\n",
      "up 👍🏻\n",
      "up 👍🏻\n",
      "Correct ! \n"
     ]
    }
   ],
   "source": [
    "import random as rd\n",
    "number = rd.randrange(1,50)\n",
    "while True:\n",
    "    guess = int(input(' Enter a number : '))\n",
    "    if guess==number:\n",
    "        print('Correct ! ')\n",
    "        break\n",
    "    elif guess<number:\n",
    "        print('up 👍🏻')\n",
    "    elif guess>number:\n",
    "        print('down 👎🏻')"
   ]
  },
  {
   "cell_type": "code",
   "execution_count": 6,
   "metadata": {},
   "outputs": [
    {
     "name": "stdout",
     "output_type": "stream",
     "text": [
      "Minimum :  10\n",
      "Maximum :  10\n",
      "Avg :  10.0\n",
      "Minimum :  10\n",
      "Maximum :  20\n",
      "Avg :  15.0\n",
      "Minimum :  10\n",
      "Maximum :  40\n",
      "Avg :  23.333333333333332\n",
      "Minimum :  10\n",
      "Maximum :  40\n",
      "Avg :  22.5\n",
      "5번 입력하셨습니돠\n",
      "Minimum :  10\n",
      "Maximum :  40\n",
      "Avg :  24.0\n",
      "6번 입력하셨습니돠\n",
      "Minimum :  8\n",
      "Maximum :  40\n",
      "Avg :  21.333333333333332\n",
      "7번 입력하셨습니돠\n",
      "Minimum :  4\n",
      "Maximum :  40\n",
      "Avg :  18.857142857142858\n",
      "8번 입력하셨습니돠\n",
      "Minimum :  4\n",
      "Maximum :  40\n",
      "Avg :  17.875\n"
     ]
    }
   ],
   "source": [
    "count = 0\n",
    "total = 0\n",
    "num = int(input('Enter a nonnegative integer : '))\n",
    "min = num\n",
    "max = num\n",
    "while num != -1:\n",
    "    count += 1\n",
    "    total += num\n",
    "    if min > num:\n",
    "        min = num\n",
    "    if max < num:\n",
    "        max = num\n",
    "    num = int(input('Enter a nonnegative integer : '))\n",
    "    if count > 0:\n",
    "        if count >= 5:\n",
    "            print(f'{count}번 입력하셨습니돠')\n",
    "        print(\"Minimum : \", min)\n",
    "        print(\"Maximum : \", max)\n",
    "        print(\"Avg : \", total / count)\n",
    "    else : \n",
    "        print(\"No nonnegative integers were entered\")"
   ]
  },
  {
   "cell_type": "code",
   "execution_count": 8,
   "metadata": {},
   "outputs": [
    {
     "name": "stdout",
     "output_type": "stream",
     "text": [
      "*\n",
      "**\n",
      "***\n",
      "****\n"
     ]
    }
   ],
   "source": [
    "numOfRows = int(input('Enter a number form 1 to 20 : '))\n",
    "for i in range(numOfRows):\n",
    "    for j in range(i+1):\n",
    "        print('*',end='')\n",
    "    print()"
   ]
  },
  {
   "cell_type": "code",
   "execution_count": 47,
   "metadata": {},
   "outputs": [
    {
     "name": "stdout",
     "output_type": "stream",
     "text": [
      "*++++\n",
      "**+++\n",
      "***++\n",
      "****+\n",
      "*****\n",
      "****+\n",
      "***++\n",
      "**+++\n",
      "*++++\n",
      "+++++\n"
     ]
    }
   ],
   "source": [
    "for i in range(5):\n",
    "    for j in range(i+1):\n",
    "        print('*',end='')\n",
    "    for j in range(5-(i+1)):\n",
    "        print('+',end='')\n",
    "    print()\n",
    "for i in range(5):\n",
    "    for j in range(5-(i+1)):\n",
    "        print('*',end='')\n",
    "    for j in range(i+1):\n",
    "        print('+',end='')\n",
    "    print()"
   ]
  },
  {
   "cell_type": "code",
   "execution_count": 51,
   "metadata": {},
   "outputs": [
    {
     "name": "stdout",
     "output_type": "stream",
     "text": [
      "m\n",
      "ym\n",
      " ym\n",
      "n ym\n",
      "an ym\n",
      "man ym\n",
      "eman ym\n",
      " eman ym\n",
      "i eman ym\n",
      "si eman ym\n",
      " si eman ym\n",
      "j si eman ym\n",
      "ij si eman ym\n",
      "eij si eman ym\n",
      "ueij si eman ym\n",
      "nueij si eman ym\n",
      "The reversed word is nueij si eman ym .\n",
      "nueij si eman ym\n"
     ]
    }
   ],
   "source": [
    "word  = input('Enter a word : ')\n",
    "revWord = ''\n",
    "for ch in word:\n",
    "    revWord = ch + revWord\n",
    "    print(revWord)\n",
    "print('The reversed word is', revWord,'.')\n",
    "print(word[::-1])"
   ]
  },
  {
   "cell_type": "code",
   "execution_count": 60,
   "metadata": {},
   "outputs": [
    {
     "name": "stdout",
     "output_type": "stream",
     "text": [
      "jienu\n"
     ]
    }
   ],
   "source": [
    "word = input(\"Enter a word : \")\n",
    "print(word[:-2]+word[-1:-3:-1])"
   ]
  },
  {
   "cell_type": "code",
   "execution_count": 53,
   "metadata": {},
   "outputs": [
    {
     "name": "stdout",
     "output_type": "stream",
     "text": [
      "123\n",
      "456\n",
      "abcde"
     ]
    }
   ],
   "source": [
    "infile = open('text.txt','r')\n",
    "for i in infile:\n",
    "    print(i, end='')\n",
    "infile.close()"
   ]
  },
  {
   "cell_type": "code",
   "execution_count": 56,
   "metadata": {},
   "outputs": [
    {
     "name": "stdout",
     "output_type": "stream",
     "text": [
      "Too short\n",
      "Too short\n",
      "Input is of sufficient length\n",
      "Input is of sufficient length\n",
      "Input is of sufficient length\n",
      "Input is of sufficient length\n",
      "Input is of sufficient length\n",
      "Too short\n",
      "Input is of sufficient length\n"
     ]
    }
   ],
   "source": [
    "while True:\n",
    "    s = input('Enter something : ')\n",
    "    if s == 'quit' :\n",
    "        break\n",
    "    if len(s) < 3:\n",
    "        print('Too short')\n",
    "        continue # continue 안하면 밑에까지 다 출력 됨\n",
    "    print('Input is of sufficient length')"
   ]
  },
  {
   "cell_type": "code",
   "execution_count": 72,
   "metadata": {},
   "outputs": [
    {
     "name": "stdout",
     "output_type": "stream",
     "text": [
      "apple pineapple peach\n"
     ]
    }
   ],
   "source": [
    "## Homework\n",
    " # 2.2 \n",
    "full_sen = input('Enter a sentence : ')\n",
    "word = input('Enter word to replace : ')\n",
    "change_w = input(\"Enter replacement word : \")\n",
    "# word = full_sen.find(word)\n",
    "\n",
    "# 방법 1\n",
    "# full_sen = full_sen.replace(word, change_w)\n",
    "# print(full_sen)\n",
    "\n",
    "# 방법 2\n",
    "full_sen.split()\n",
    "replaced =[]\n",
    "for w in full_sen:\n",
    "    if w == word:\n",
    "        w == change_w\n",
    "    replaced.append(w)\n",
    "    \n",
    "replaced = ''.join(replaced)\n",
    "print(replaced)\n"
   ]
  },
  {
   "cell_type": "code",
   "execution_count": 71,
   "metadata": {},
   "outputs": [
    {
     "name": "stdout",
     "output_type": "stream",
     "text": [
      "$7,903.15\n"
     ]
    }
   ],
   "source": [
    "future_val = eval(input('Enter future value '))\n",
    "inter_rate = eval(input('Enter interest rate (as %) '))\n",
    "years = eval(input('Enter number of years '))\n",
    "\n",
    "present_val = future_val / (1+inter_rate/100)**years\n",
    "\n",
    "print(\"${:,.2f}\".format(present_val))"
   ]
  },
  {
   "cell_type": "code",
   "execution_count": 78,
   "metadata": {},
   "outputs": [
    {
     "name": "stdout",
     "output_type": "stream",
     "text": [
      "[10, 25, 2, 4, 41, [10, 30]]\n",
      "[1, 54, 7, 4, 8, 12, 48]\n"
     ]
    }
   ],
   "source": [
    "num1 = [10,25,2,4,41]\n",
    "num2 = [1,54,7,4,8]\n",
    "num1.append([10,30]) # list 안에 list가 들어감\n",
    "num2.extend([12,48]) # list 안에 원소로 들어감\n",
    "print(num1)\n",
    "print(num2)"
   ]
  },
  {
   "cell_type": "code",
   "execution_count": 81,
   "metadata": {},
   "outputs": [
    {
     "name": "stdout",
     "output_type": "stream",
     "text": [
      "(1, 2, 3)\n"
     ]
    }
   ],
   "source": [
    "def tmp():\n",
    "    return 1,2,3\n",
    "\n",
    "r1 = tmp()\n",
    "print(r1)"
   ]
  },
  {
   "cell_type": "code",
   "execution_count": 82,
   "metadata": {},
   "outputs": [
    {
     "name": "stdout",
     "output_type": "stream",
     "text": [
      "The 2010 population of the Midwest was 66.9 million.\n"
     ]
    }
   ],
   "source": [
    "regions = [('Norheast',55.3),('Midwest',66.9)]\n",
    "print('The 2010 population of the', regions[1][0], 'was', regions[1][1], 'million.')"
   ]
  },
  {
   "cell_type": "code",
   "execution_count": 85,
   "metadata": {},
   "outputs": [
    {
     "name": "stdout",
     "output_type": "stream",
     "text": [
      "2870998996224\n",
      "2870998996224\n",
      "2871020297536\n"
     ]
    }
   ],
   "source": [
    "shopList = ['apple','mango','gane','car']\n",
    "\n",
    "myList = shopList \n",
    "copyList = shopList[:]\n",
    "\n",
    "del myList[0]\n",
    "\n",
    "print(id(shopList)) # shopList , myList = 메모리 주소가 같음\n",
    "print(id(myList)) # myList도 apple이 지워진 이유 -> 이름이 다르지만 같은 메모리에 할당 되어있는 객체 (str은 메모리에 하나만 만듦)\n",
    "print(id(copyList)) # 메모리 주소 다름"
   ]
  },
  {
   "attachments": {},
   "cell_type": "markdown",
   "metadata": {},
   "source": [
    "```\n",
    "\n"
   ]
  }
 ],
 "metadata": {
  "kernelspec": {
   "display_name": "Python 3",
   "language": "python",
   "name": "python3"
  },
  "language_info": {
   "codemirror_mode": {
    "name": "ipython",
    "version": 3
   },
   "file_extension": ".py",
   "mimetype": "text/x-python",
   "name": "python",
   "nbconvert_exporter": "python",
   "pygments_lexer": "ipython3",
   "version": "3.10.11"
  },
  "orig_nbformat": 4
 },
 "nbformat": 4,
 "nbformat_minor": 2
}
